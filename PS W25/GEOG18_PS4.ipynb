{
 "cells": [
  {
   "cell_type": "markdown",
   "metadata": {
    "colab_type": "text",
    "id": "GtcdarKLivQY"
   },
   "source": [
    "# Problem Set #4\n",
    "\n",
    "Python is has built in functions to evaluate expressions efficiently. In addition to that, you can also write your own functions and  conditional statements. It allows you flexibility to make Python do what you want. In this problem set, we will learn how to use these options in Python.\n",
    "\n",
    "## Learning objectives:\n",
    "1. Extend understanding of additional, useful functions\n",
    "2. Create own functions to calculate simple formulas\n",
    "\n",
    "**Total points for this problem set: 24 pts**\n",
    "*   Example codes executed: 5 pts\n",
    "*   Correct answers to problems: 14 pts\n",
    "*   Comments added to responses: 5 pts\n",
    "\n",
    "**Please do not forget to add comments (with the # sign) next to your code for all of the problems to explain what you are doing.**"
   ]
  },
  {
   "cell_type": "markdown",
   "metadata": {
    "colab_type": "text",
    "id": "lwtt8fz0i_6r"
   },
   "source": [
    "## #1. Conditionals\n",
    "\n",
    "Conditionals are a critical part of programming. It allows programming of expressions, functions based on what we observe, or what conditions the observation meets. \n",
    "\n",
    "### 1.1 If-else statements\n",
    "\n",
    "We use if-else statements to evaluate expressions under only certain conditions."
   ]
  },
  {
   "cell_type": "code",
   "execution_count": null,
   "metadata": {
    "colab": {},
    "colab_type": "code",
    "id": "1dRZNJCESCMN"
   },
   "outputs": [],
   "source": [
    "x = 100 # Set the object x as equal to the numeric value 100. This is called initialization. It's crucial in programming.\n",
    "if x > 0: # If x is greater than zero, do something\n",
    "    print('Positive Number') # Do a print! Print the words \"Positive Number\"\n",
    "elif x < 0: # Else if (unless) x is less than zero do this instead\n",
    "    print('Negative Number') # Print the words \"Negative Number\"\n",
    "else: # If x is neither greater than or less than zero, x must be what?\n",
    "    print ('Zero!') # Zero"
   ]
  },
  {
   "cell_type": "code",
   "execution_count": null,
   "metadata": {
    "colab": {},
    "colab_type": "code",
    "id": "uedrPVL9Vqcv"
   },
   "outputs": [],
   "source": [
    "# What will happen if we set x = -23?\n",
    "x = -23\n",
    "if x > 0:\n",
    "  print('Positive Number')\n",
    "elif x < 0: \n",
    "  print('Negative Number')\n",
    "else:\n",
    "  print('Zero!')"
   ]
  },
  {
   "cell_type": "markdown",
   "metadata": {
    "colab_type": "text",
    "id": "yP0-zwVPXoEL"
   },
   "source": [
    "Can we set two conditions?"
   ]
  },
  {
   "cell_type": "code",
   "execution_count": null,
   "metadata": {
    "colab": {},
    "colab_type": "code",
    "id": "-iMvJ86bXqqm"
   },
   "outputs": [],
   "source": [
    "temperature = 45\n",
    "if temperature > 0 and temperature < 100:\n",
    "  print(\"Water temperature between freezing and boiling point\")\n",
    "else:\n",
    "  print(\"Not between freezing and boiling point\")"
   ]
  },
  {
   "cell_type": "markdown",
   "metadata": {
    "colab_type": "text",
    "id": "GzecWy7gbD0c"
   },
   "source": [
    "### Problem #1\n",
    "\n",
    "Write a conditional statement that classifies numbers less than or equal to 10 small and numbers greater than 10 as large.\n",
    "\n",
    "See if your conditional statement determines 23 as a large number."
   ]
  },
  {
   "cell_type": "code",
   "execution_count": null,
   "metadata": {
    "colab": {},
    "colab_type": "code",
    "id": "srDgn0UubVGg"
   },
   "outputs": [],
   "source": [
    "# ENTER CODE HERE"
   ]
  },
  {
   "cell_type": "markdown",
   "metadata": {
    "colab_type": "text",
    "id": "ziabpUjzbZ78"
   },
   "source": [
    "### Problem #2\n",
    "\n",
    "We've discussed in depth how important [latent heat](https://en.wikipedia.org/wiki/Latent_heat) of evaporation is to precipitation. "
   ]
  },
  {
   "cell_type": "markdown",
   "metadata": {
    "colab_type": "text",
    "id": "hDskIh0lYj2y"
   },
   "source": [
    "Here is the diagram from lecture:\n",
    "![latent heat](latent_heat.png)"
   ]
  },
  {
   "cell_type": "markdown",
   "metadata": {
    "colab_type": "text",
    "id": "nS6Qi8MOYqpz"
   },
   "source": [
    "We want to see which phase water would be when 500 joules are added to water using Python. Using the values in the diagram above, write a conditional statement that provides the phase of water given the energy added to it (in Joules)."
   ]
  },
  {
   "cell_type": "code",
   "execution_count": null,
   "metadata": {
    "colab": {},
    "colab_type": "code",
    "id": "5yXv9194cgac"
   },
   "outputs": [],
   "source": [
    "# Hint: Build off of the code provided below\n",
    "energy_added = ##\n",
    "if energy_added < 62.7:\n",
    "  print(\"Ice\")\n",
    "### ENTER CODE HERE"
   ]
  },
  {
   "cell_type": "markdown",
   "metadata": {
    "colab_type": "text",
    "id": "OA6kRtnDbYwE"
   },
   "source": [
    "### Problem #3 \n",
    "\n",
    "Write a conditional statement that adds 10 to numbers less than 100, but subtracts 20 from numbers greater than or equal to 100. \n",
    "\n",
    "Evaluate the conditional statement for `number = 59`. "
   ]
  },
  {
   "cell_type": "code",
   "execution_count": null,
   "metadata": {
    "colab": {},
    "colab_type": "code",
    "id": "V8NXZOB2bhbj"
   },
   "outputs": [],
   "source": [
    "# ENTER CODE HERE"
   ]
  },
  {
   "cell_type": "markdown",
   "metadata": {
    "colab_type": "text",
    "id": "oqwm86fHjG6v"
   },
   "source": [
    "### 1.2 While statements\n",
    "\n",
    "One of the powerful things about a programming language is that we can get it to do tasks that would be a pain for us to do. We can see that we can tell Python to tell us things. "
   ]
  },
  {
   "cell_type": "code",
   "execution_count": null,
   "metadata": {
    "colab": {},
    "colab_type": "code",
    "id": "Abw_LZNWd4Fw"
   },
   "outputs": [],
   "source": [
    "# make a loop for Python to count from 1 to 10.\n",
    "count = 0 # Inititalize the object 'count' as equal to zero.\n",
    "while count < 10: # 'while' is an identifier on the list from above. it iterates as long as the condition is met.\n",
    "                  # So here it says that while the object count is less than 10, do the following:\n",
    "                  # A less good way would be to update the object count as:      \n",
    "    # count = count + 1\n",
    "                  # But a syntactically better way is\n",
    "    count += 1    # += is actually quite complicated, and we won't get into it, but it's essentially just adding the value to the object count\n",
    "print(count)"
   ]
  },
  {
   "cell_type": "markdown",
   "metadata": {
    "colab_type": "text",
    "id": "Rz-J4lwc9q6X"
   },
   "source": [
    "We learned in class that we can quantify water as an energetic quantity. \n",
    "\n",
    "The formula to convert precipitation rate to energy rate is: \n",
    "\n",
    "Energy rate = precipitation rate (mass per unit area per time) x latent heat of vaporization"
   ]
  },
  {
   "cell_type": "code",
   "execution_count": null,
   "metadata": {
    "colab": {},
    "colab_type": "code",
    "id": "nvSV0QSV9awJ"
   },
   "outputs": [],
   "source": [
    "# Let's try to calculate for one particular precipitation rate of 1 meter/year\n",
    "# First, convert the precipitation rate into meter per second\n",
    "precipitation_rate = 1 * (1/365) * (1/86400)\n",
    "\n",
    "# Second, convert into mass per unit area per time (kg*s^-1*m^-2)\n",
    "precipitation_rate = precipitation_rate * 1000 \n",
    "\n",
    "# Third, multiply latent heat of vaporization (Joules/kg)\n",
    "energy_rate = precipitation_rate * 2.5*10**6\n",
    "\n",
    "# Result \n",
    "print(energy_rate, \"Wm^2\")"
   ]
  },
  {
   "cell_type": "code",
   "execution_count": null,
   "metadata": {
    "colab": {},
    "colab_type": "code",
    "id": "bWRnRUzAIYyy"
   },
   "outputs": [],
   "source": [
    "# Let's try to calculate for precipitation rates 1, 2, 3, 4 meters/year\n",
    "precipitation_rate = 0 # Start with 0 as Python uses a zero-based system\n",
    "\n",
    "# Write a while loop to make it easier\n",
    "while precipitation_rate < 4:\n",
    "  precipitation_rate = precipitation_rate + 1\n",
    "  pr = precipitation_rate * (1/365) * (1/86400) * 1000\n",
    "  energy_rate = pr * (2.5*10**6)\n",
    "  print(energy_rate)"
   ]
  },
  {
   "cell_type": "markdown",
   "metadata": {
    "colab_type": "text",
    "id": "JOtjvFoDKpWL"
   },
   "source": [
    "### Problem #4\n",
    "\n",
    "4A - Calculate the energy rate for precipitation rates 3,4,5,6,7,8 meters per year."
   ]
  },
  {
   "cell_type": "code",
   "execution_count": null,
   "metadata": {
    "colab": {},
    "colab_type": "code",
    "id": "10nxMipXKyN6"
   },
   "outputs": [],
   "source": [
    "# ENTER CODE HERE"
   ]
  },
  {
   "cell_type": "markdown",
   "metadata": {
    "colab_type": "text",
    "id": "WFxWxewjvjnQ"
   },
   "source": [
    "4B - Plot the precipitation rate and energy rate. What type of plot makes the most sense?\n",
    "\n",
    "Hint: Think back to the packages, functions from the previous problem set."
   ]
  },
  {
   "cell_type": "code",
   "execution_count": null,
   "metadata": {
    "colab": {},
    "colab_type": "code",
    "id": "W2Lsu8jVvs6r"
   },
   "outputs": [],
   "source": [
    "# ENTER CODE HERE"
   ]
  },
  {
   "cell_type": "markdown",
   "metadata": {
    "colab_type": "text",
    "id": "yd8LZm0Gi21t"
   },
   "source": [
    "4C - Interpret the relationship between precipitation rate and energy rate"
   ]
  },
  {
   "cell_type": "code",
   "execution_count": null,
   "metadata": {
    "colab": {},
    "colab_type": "code",
    "id": "t2WOzkpTNDUc"
   },
   "outputs": [],
   "source": [
    "# ENTER RESPONSE HERE"
   ]
  },
  {
   "cell_type": "markdown",
   "metadata": {
    "colab_type": "text",
    "id": "Dl_IuZcJjIah"
   },
   "source": [
    "## #2. For Loops\n",
    "\n",
    "for loops are used when you want to repeat code over number of times. It iterates a block of code over the members of a sequence in order."
   ]
  },
  {
   "cell_type": "code",
   "execution_count": null,
   "metadata": {
    "colab": {},
    "colab_type": "code",
    "id": "ULlHzxvwLm5m"
   },
   "outputs": [],
   "source": [
    "# Let's print 0,1,2,3,4,5,6,7,8,9,10 using a for loop\n",
    "for x in range(0,9):\n",
    "  print(x)"
   ]
  },
  {
   "cell_type": "code",
   "execution_count": null,
   "metadata": {
    "colab": {},
    "colab_type": "code",
    "id": "NZbHzxqHL_LT"
   },
   "outputs": [],
   "source": [
    "# Let's add 2 to a list of numbers\n",
    "list = [1,6,3,7,9,15]\n",
    "\n",
    "for i in range(len(list)):\n",
    "  new_list = list[i] + 2\n",
    "  print(new_list)"
   ]
  },
  {
   "cell_type": "markdown",
   "metadata": {
    "colab_type": "text",
    "id": "fbIYjAg8NPFA"
   },
   "source": [
    "Think back to when we discussed flood return periods and probabilities of occurrences. We can use for loops to easily calculate the probabilities for many recurrence intervals. "
   ]
  },
  {
   "cell_type": "code",
   "execution_count": null,
   "metadata": {
    "colab": {},
    "colab_type": "code",
    "id": "oFurINpKXUuC"
   },
   "outputs": [],
   "source": [
    "# Determine the recurrence intervals\n",
    "recurrence_interval = range(20,200,10)\n",
    "\n",
    "# Create an empty list\n",
    "probabilities = []\n",
    "\n",
    "# Calculate probabilites of floods occurring for different recurrence intervals\n",
    "for year in recurrence_interval:\n",
    "  probabilities = 1/year\n",
    "  print(probabilities)"
   ]
  },
  {
   "cell_type": "markdown",
   "metadata": {
    "colab_type": "text",
    "id": "9s3hrDarbHgo"
   },
   "source": [
    "It would have been a pain to calculate this one by one. But, with the for loop, we can easily calculate the probabilites for many years at the same time!"
   ]
  },
  {
   "cell_type": "markdown",
   "metadata": {
    "colab_type": "text",
    "id": "JFq78c--bUp5"
   },
   "source": [
    "### Problem #5\n",
    "\n",
    "Instead of a while statement as in Problem #2, use a for loop to calculate the energy rate for precipitation rates of 1000, 1010, 1020, 1030 mm/year."
   ]
  },
  {
   "cell_type": "code",
   "execution_count": null,
   "metadata": {
    "colab": {},
    "colab_type": "code",
    "id": "_hqOAEY9cqaV"
   },
   "outputs": [],
   "source": [
    "# ENTER CODE HERE"
   ]
  },
  {
   "cell_type": "markdown",
   "metadata": {
    "colab_type": "text",
    "id": "IjgLcuC-dZp-"
   },
   "source": [
    "### Problem #6\n",
    "\n",
    "We've discussed net radiation a bit. Recall this slide from Week 4 on Extreme Heat:\n",
    "![net radiation budget](Rn.png)\n"
   ]
  },
  {
   "cell_type": "markdown",
   "metadata": {},
   "source": [
    "How can we use Python to easily calculate net radiation?\n",
    "\n",
    "Here is the net radiation equation: \n",
    "$$ R_{n} = E + H + G$$\n",
    "where $$R_{n} = net radiation,  E = latent heat flux,  H = sensible heat flux,  G = ground heat flux$$\n",
    "\n",
    "Given the components of the radiative equation I provide below, calculate the net radiation for each month using a for loop. "
   ]
  },
  {
   "cell_type": "code",
   "execution_count": null,
   "metadata": {
    "colab": {},
    "colab_type": "code",
    "id": "N1-KH5Y9UAzv"
   },
   "outputs": [],
   "source": [
    "Month = [185101, 185102, 185103, 185104, 185105, 185106, 185107, 185108, 185109, 185110, 185111, 185112, \n",
    "         185201, 185202, 185203, 185204, 185205, 185206, 185207, 185208, 185209, 185210, 185211, 185212,\n",
    "         185301, 185302, 185303, 185304, 185305, 185306, 185307, 185308, 185309, 185310, 185311, 185312]\n",
    "\n",
    "E = [10.3958, 9.5607, 10.9447, 25.9507, 49.8862, 82.7787, 115.0917, 137.6443, 108.7281, 70.1411, 30.5393, 14.8769,\n",
    "     9.6557, 7.6174, 12.7037, 24.4046, 51.0014, 91.0638, 115.7851, 113.9498, 103.5244, 64.6185, 31.7258, 15.0708,\n",
    "     6.9338, 7.6024, 10.4193, 25.2389, 47.1652, 82.7030, 113.9437, 121.5587, 96.5295, 69.6531, 36.2812, 13.8609]\n",
    "H = [-4.5401, 2.9954, 8.5908, 27.1378, 42.9388, 79.6276, 39.8939, 32.3882, 39.2940, 30.5761, 10.0681, 5.3881,\n",
    "     3.2606, 22.1991, 19.5914, 19.5037, 45.4515, 43.8693, 51.4769, 25.2379, 33.0515, 20.2314, 19.5600, 9.0922,\n",
    "     -6.7125, 18.4601, 4.7939, 33.5269, 62.4401, 61.2917, 38.3927, 49.1421, 26.2235, 30.1322, 13.5572, 5.2214]\n",
    "G = [-9.9201, -12.2124, 0.5172, 13.0528, 7.3716, 4.7219, 10.3680, 9.6148, 4.1602, 0.7137, -3.5241, -13.0999,\n",
    "     -20.1320, -25.3634, -5.0367, 16.2129, 15.2029, 8.2648, 5.8259, 9.3411, 5.2759, 4.1399, -7.8771, -15.7289,\n",
    "     -3.7328, -23.3359, 5.7181, 5.7331, 7.1464, 7.2585, 10.6689, 5.9553, 4.8485, 1.6736, -7.1908, -10.8571]\n",
    "\n",
    "\n",
    "E_Series = pd.Series(E, index = Month)\n",
    "H_Series = pd.Series(H, index= Month)\n",
    "G_Series = pd.Series(G, index = Month)"
   ]
  },
  {
   "cell_type": "code",
   "execution_count": null,
   "metadata": {
    "colab": {},
    "colab_type": "code",
    "id": "tIBi264VUBaG"
   },
   "outputs": [],
   "source": [
    "# Hint #1: Create an empty object to store your answer into\n",
    "# Hint #2: Think of how to index each value for each month\n",
    "# Hint #3: Are there any functions we learned in problem set #1 which will allow us to add elements to an existing list?\n",
    "\n",
    "# ENTER CODE HERE"
   ]
  },
  {
   "cell_type": "code",
   "execution_count": null,
   "metadata": {
    "colab": {},
    "colab_type": "code",
    "id": "FSxpqGw1ksIg"
   },
   "outputs": [],
   "source": [
    "# Print the results here"
   ]
  },
  {
   "cell_type": "markdown",
   "metadata": {
    "colab_type": "text",
    "id": "OZccpVuijR0l"
   },
   "source": [
    "## #3. Writing Functions\n",
    "\n",
    "Functions are a central part of advanced Python programming. In general, you should try to write and use your own functions as often as possible. For this course, I'm going to be doing a lot of the writing, you guys are going to do the critical thinking, iterpretation, and evaluation.\n",
    "\n",
    "You have already encountered a bunch of built in functions. Pretty much any code that has a word followed by a parenthesis is a function. The first one you encountered in this problem set is `str()`, which converts another data type to a string."
   ]
  },
  {
   "cell_type": "code",
   "execution_count": null,
   "metadata": {
    "colab": {},
    "colab_type": "code",
    "id": "-00RdewYbKst"
   },
   "outputs": [],
   "source": [
    "# define a function\n",
    "def say_hello(): #Define a function called 'say_hello' that may or may not take arguements ()\n",
    "    \"\"\"Return the word hello.\"\"\" # Lots of quotations marks here! This is a 'triple-quoted string' which allows \n",
    "                                 # the string to span multiple lines when printed. Otherwise we'd need to add the '\\n' command to\n",
    "                                 # add a new line. So this is what would be printed if you queried the function to find out what it does\n",
    "    return 'Hello'               # return the string 'Hello'\n",
    "                                 # Once you run this, the function is stored in this instance of python and can be called like any other."
   ]
  },
  {
   "cell_type": "code",
   "execution_count": null,
   "metadata": {
    "colab": {},
    "colab_type": "code",
    "id": "75ouHOkNd11t"
   },
   "outputs": [],
   "source": [
    "# What happens when you call that function?\n",
    "say_hello()"
   ]
  },
  {
   "cell_type": "code",
   "execution_count": null,
   "metadata": {
    "colab": {},
    "colab_type": "code",
    "id": "29X57Rjpd6jS"
   },
   "outputs": [],
   "source": [
    "# We can also add some arguments to the function\n",
    "def say_hello_to(name):\n",
    "    \"\"\"Return a greeting to `name`\"\"\"\n",
    "    return 'Hello ' + name"
   ]
  },
  {
   "cell_type": "code",
   "execution_count": null,
   "metadata": {
    "colab": {},
    "colab_type": "code",
    "id": "9aaTkXpNd__I"
   },
   "outputs": [],
   "source": [
    "say_hello_to('World')"
   ]
  },
  {
   "cell_type": "markdown",
   "metadata": {
    "colab_type": "text",
    "id": "vx4bDr5d5tG_"
   },
   "source": [
    "You can add two arguments to functions as well."
   ]
  },
  {
   "cell_type": "code",
   "execution_count": null,
   "metadata": {
    "colab": {},
    "colab_type": "code",
    "id": "d83py8Ei5rzd"
   },
   "outputs": [],
   "source": [
    "# Function definition\n",
    "def print_name2(first_name, last_name):\n",
    "    return (first_name + \" \" + last_name)\n",
    "  \n",
    "# Main program\n",
    "result = print_name2(\"Justin\", \"Mankin\") # Function call\n",
    "print(result)"
   ]
  },
  {
   "cell_type": "markdown",
   "metadata": {
    "colab_type": "text",
    "id": "S6xKo1Zc6er8"
   },
   "source": [
    "Now let's make it more relevant to the course. Let's create a function to evaluate the average precipitation amount in Hanover in July 2020. "
   ]
  },
  {
   "cell_type": "code",
   "execution_count": null,
   "metadata": {
    "colab": {},
    "colab_type": "code",
    "id": "G5NpsCP77C5y"
   },
   "outputs": [],
   "source": [
    "# Here is the precipitation data for Hanover\n",
    "precipitation = [0.12, 0.24, 0.39, 0.51, 0.63, 0.79, 0.91, 1.02, 1.18, 1.30, 1.46, \n",
    "                 1.57, 1.69, 1.81, 1.97, 2.09, 2.24, 2.36, 2.52, 2.68, 2.80, 2.95,\n",
    "                 3.07, 3.23, 3.39, 3.50, 3.66, 3.78, 3.94, 4.06, 4.21]"
   ]
  },
  {
   "cell_type": "code",
   "execution_count": null,
   "metadata": {
    "colab": {},
    "colab_type": "code",
    "id": "5_A2n-FP7l7r"
   },
   "outputs": [],
   "source": [
    "# Function definition\n",
    "def calculate_average(list):\n",
    "  average = sum(list)/len(list)\n",
    "  return average"
   ]
  },
  {
   "cell_type": "code",
   "execution_count": null,
   "metadata": {
    "colab": {},
    "colab_type": "code",
    "id": "4jqzj8Pj8BCJ"
   },
   "outputs": [],
   "source": [
    "# Apply the function\n",
    "calculate_average(precipitation)"
   ]
  },
  {
   "cell_type": "markdown",
   "metadata": {
    "colab_type": "text",
    "id": "jBnosRyjDOcs"
   },
   "source": [
    "### Problem #7\n",
    "\n",
    "Think back to in problem set #1, we converted one temperature in Farenheit to Celsius. If we write a function for the conversion, we can convert multiple temperatures way faster than writing it one at a time. \n",
    "\n",
    "7A - Write a function that would convert temperature from Farenheit to Celsius. "
   ]
  },
  {
   "cell_type": "code",
   "execution_count": null,
   "metadata": {
    "colab": {},
    "colab_type": "code",
    "id": "SlpgM7SvDV-z"
   },
   "outputs": [],
   "source": [
    "# ENTER CODE HERE"
   ]
  },
  {
   "cell_type": "markdown",
   "metadata": {
    "colab_type": "text",
    "id": "j9sApk_3EzXa"
   },
   "source": [
    "7B - Using the function you've created, convert 23, 65, 99, 140 degrees Farenheit into degrees Celsius."
   ]
  },
  {
   "cell_type": "code",
   "execution_count": null,
   "metadata": {
    "colab": {},
    "colab_type": "code",
    "id": "FoRyh9CeE9Tr"
   },
   "outputs": [],
   "source": [
    "# ENTER CODE HERE"
   ]
  },
  {
   "cell_type": "markdown",
   "metadata": {
    "colab_type": "text",
    "id": "jpewOy57ucha"
   },
   "source": [
    "### Problem #8\n",
    "\n",
    "8A - Use the same data given in Problem #6, but this time write a function instead of a for loop to calculate the net radiation. It's helpful to create a new empty object to store results from a function."
   ]
  },
  {
   "cell_type": "code",
   "execution_count": null,
   "metadata": {
    "colab": {},
    "colab_type": "code",
    "id": "7ckJOed-uwmg"
   },
   "outputs": [],
   "source": [
    "# ENTER CODE HERE"
   ]
  },
  {
   "cell_type": "markdown",
   "metadata": {
    "colab_type": "text",
    "id": "YL-cYPtvwetm"
   },
   "source": [
    "8B - Do all of the net radiation calculated from Problem #6 and Problem #8A match?\n",
    "\n",
    "Hint: Answers for Problem #6 and Problem #8A should be stored into objects"
   ]
  },
  {
   "cell_type": "code",
   "execution_count": null,
   "metadata": {
    "colab": {},
    "colab_type": "code",
    "id": "BzV1A3eQwp_8"
   },
   "outputs": [],
   "source": [
    "# ENTER CODE HERE"
   ]
  },
  {
   "cell_type": "markdown",
   "metadata": {
    "colab_type": "text",
    "id": "Mi7ds9_DvK5Y"
   },
   "source": [
    "8C - Plot the calculated net radiation. \n",
    "\n",
    "Hint: Think back to packages, functions we learned in the previous problem set."
   ]
  },
  {
   "cell_type": "code",
   "execution_count": null,
   "metadata": {
    "colab": {},
    "colab_type": "code",
    "id": "MT_Vdz-WvKLX"
   },
   "outputs": [],
   "source": [
    "# ENTER CODE HERE"
   ]
  },
  {
   "cell_type": "markdown",
   "metadata": {
    "colab_type": "text",
    "id": "VsozeG-Sl70z"
   },
   "source": [
    "8D - Interpret your plot from 8C."
   ]
  },
  {
   "cell_type": "code",
   "execution_count": null,
   "metadata": {
    "colab": {},
    "colab_type": "code",
    "id": "MpphLXsnl8li"
   },
   "outputs": [],
   "source": [
    "# ENTER RESPONSE HERE"
   ]
  },
  {
   "cell_type": "markdown",
   "metadata": {},
   "source": [
    "### Who did you work on this problem set with? What was the nature of that collaboration?"
   ]
  },
  {
   "cell_type": "code",
   "execution_count": null,
   "metadata": {},
   "outputs": [],
   "source": []
  }
 ],
 "metadata": {
  "colab": {
   "authorship_tag": "ABX9TyMcunSlmCeCk2JhYscBoMOi",
   "collapsed_sections": [],
   "name": "DIFUSE_GEOG36_PS4.ipynb",
   "provenance": []
  },
  "kernelspec": {
   "display_name": "Python 2",
   "language": "python",
   "name": "python2"
  },
  "language_info": {
   "codemirror_mode": {
    "name": "ipython",
    "version": 2
   },
   "file_extension": ".py",
   "mimetype": "text/x-python",
   "name": "python",
   "nbconvert_exporter": "python",
   "pygments_lexer": "ipython2",
   "version": "2.7.14"
  }
 },
 "nbformat": 4,
 "nbformat_minor": 2
}
