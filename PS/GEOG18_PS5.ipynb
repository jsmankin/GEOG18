{
 "cells": [
  {
   "cell_type": "markdown",
   "metadata": {
    "colab_type": "text",
    "id": "SteJ-HYyjoTX"
   },
   "source": [
    "# Problem Set #5\n",
    "\n",
    "In this problem set, we will be delving a little bit deeper into a data type that is commonly used in climate science. We will be using packages and functions we learned from previous problem sets to do simple analyses on climate related data.\n",
    "\n",
    "## Learning objectives: \n",
    "1. Explain data structures commonly used in climate science\n",
    "2. Accumulate and apply skills from previous problem sets\n",
    "\n",
    "**Total points for this problem set: 21 pts**\n",
    "*   Example codes executed: 5 pts\n",
    "*   Correct answers to problems: 11 pts\n",
    "*   Comments added to responses: 5 pts\n",
    "\n",
    "**Please do not forget to add comments (with the # sign) next to your code for all of the problems to explain what you are doing.**"
   ]
  },
  {
   "cell_type": "markdown",
   "metadata": {
    "colab_type": "text",
    "id": "ua6Av075j4mT"
   },
   "source": [
    "## #1. How is climate data usually stored?\n",
    "\n",
    "Often times, climate data is stored in netCDF (.nc) format. Although we didn't go into detail about netCDF files, we already used the this type of file in Problem Set #3. netCDF files are commonly used in climatology, meteorology, and oceanography. They are able to store observed data to respective location on earth. \n",
    "\n",
    "Below I'm going to read in data from a \"[reanalysis](https://climatedataguide.ucar.edu/climate-data/atmospheric-reanalysis-overview-comparison-tables)\" dataset. Essentially reanalysis uses a climate model to fill in the spatial and temporal gaps between observations. So it's not quite observations, it's not quite model output, it's something different. But it's often used in climate analysis because it is heavily vetted, is nearly observational, and is a powerful tool for climate research. So the data we're going to use comes from the [NCEP/NCAR Reanalysis](https://psl.noaa.gov/data/gridded/data.ncep.reanalysis.html).\n",
    "\n",
    "We will be using NCEP/NCAR Reanalysis data to assess heat waves. Let's read in a NCEP average daily surface temperature in 2010 and make map plots of the first day's values: "
   ]
  },
  {
   "cell_type": "code",
   "execution_count": null,
   "metadata": {
    "colab": {},
    "colab_type": "code",
    "id": "ROVCmlPmtHup"
   },
   "outputs": [],
   "source": [
    "# Let's reimport the packages we were using in the previous problem set\n",
    "import cartopy\n",
    "import cartopy.crs as ccrs\n",
    "import netCDF4"
   ]
  },
  {
   "cell_type": "code",
   "execution_count": null,
   "metadata": {
    "colab": {},
    "colab_type": "code",
    "id": "PaTz9eHNtJ-y"
   },
   "outputs": [],
   "source": [
    "# download with curl instead of wget\n",
    "import xarray as xr # we're going to use xarray to do this analysis, which \n",
    "!curl -O https://psl.noaa.gov/thredds/fileServer/Datasets/ncep.reanalysis.dailyavgs/surface/air.sig995.2010.nc\n",
    "    \n",
    "f = xr.open_dataset('air.sig995.2010.nc')\n",
    "f # print the metadata"
   ]
  },
  {
   "cell_type": "markdown",
   "metadata": {
    "colab_type": "text",
    "id": "xgNnebFctLy9"
   },
   "source": [
    "Take a minute with what just printed to the screen. Click on some of the icons on the right of what printed. We got the coordinate info -- what latitude and longitude and timestep the data refer to and we've got the data itself, called \"air\", which has dimensions of time, lat, and lon. This is surface air temperature, or SAT. If you click on the little \"print-like\" icon, you can see more information about it. What are the units? Hmm, we'll probably want those in something we know better, like Celsius.\n",
    "\n",
    "Great. Let's take a quick look at it:"
   ]
  },
  {
   "cell_type": "code",
   "execution_count": null,
   "metadata": {
    "colab": {},
    "colab_type": "code",
    "id": "2AaN61riKstJ"
   },
   "outputs": [],
   "source": [
    "# We can extract certain aspects from this dataset\n",
    "air = f.air\n",
    "\n",
    "# Let's see what that looks like\n",
    "air"
   ]
  },
  {
   "cell_type": "code",
   "execution_count": null,
   "metadata": {
    "colab": {},
    "colab_type": "code",
    "id": "oc7u1omkLJj2"
   },
   "outputs": [],
   "source": [
    "# We want to view the temperature in Celsius, not Kelvin\n",
    "# So, to convert, we will subtract 273.15 from the Kelvin temperature\n",
    "air_c = air[:] - 273.15"
   ]
  },
  {
   "cell_type": "markdown",
   "metadata": {
    "colab_type": "text",
    "id": "ki7NDF--GyEN"
   },
   "source": [
    "Let's see what this looks like:"
   ]
  },
  {
   "cell_type": "code",
   "execution_count": null,
   "metadata": {
    "colab": {},
    "colab_type": "code",
    "id": "bx8SuPmsG0mI"
   },
   "outputs": [],
   "source": [
    "air_c"
   ]
  },
  {
   "cell_type": "markdown",
   "metadata": {
    "colab_type": "text",
    "id": "zjVV0DK4o6nT"
   },
   "source": [
    "### Problem #1 \n",
    "\n",
    "Describe how `air_c` object is organized, or what it looks like, in your own words. "
   ]
  },
  {
   "cell_type": "code",
   "execution_count": null,
   "metadata": {
    "colab": {},
    "colab_type": "code",
    "id": "Zhx6DfsTpYom"
   },
   "outputs": [],
   "source": [
    "# ENTER REPONSE HERE"
   ]
  },
  {
   "cell_type": "markdown",
   "metadata": {
    "colab_type": "text",
    "id": "a7EiacmhpcXX"
   },
   "source": [
    "## #2. Visualizing climate data\n",
    "\n",
    "We have seen many spatial plots during our lectures and have even plotted simple ones in the previous problem set. Let's start plotting our own complex spatial plots using the data we just downloaded."
   ]
  },
  {
   "cell_type": "code",
   "execution_count": null,
   "metadata": {
    "colab": {},
    "colab_type": "code",
    "id": "uXLWlosPtNYM"
   },
   "outputs": [],
   "source": [
    "# Let's view the daily air temperature as a spatial plot\n",
    "import matplotlib.pyplot as plt # Import matplotlib\n",
    "fig=plt.figure(figsize=(12, 8) )\n",
    "lat = f.lat # index latitude\n",
    "lon = f.lon # index longititude\n",
    "\n",
    "plt.imshow(air_c[0,:,:],cmap=plt.cm.get_cmap('jet'))"
   ]
  },
  {
   "cell_type": "markdown",
   "metadata": {
    "colab_type": "text",
    "id": "ULryNV_XtP8X"
   },
   "source": [
    "Hmm, we can vaguely see the outlines of continents. Also, there's no colorbar to explain the magnitude of the air temperature. Let's try something different."
   ]
  },
  {
   "cell_type": "code",
   "execution_count": null,
   "metadata": {
    "colab": {},
    "colab_type": "code",
    "id": "TbwmPjM9tRJA"
   },
   "outputs": [],
   "source": [
    "# Let's view the daily air temperature as a spatial plot\n",
    "import matplotlib.pyplot as plt # Import matplotlib\n",
    "import numpy as np\n",
    "fig=plt.figure(figsize=(12, 8) )\n",
    "lat = f.lat # index latitude\n",
    "lon = f.lon # index longititude\n",
    "import cartopy.crs as ccrs\n",
    "\n",
    "ax=plt.axes(projection=ccrs.Orthographic(central_longitude=-100, central_latitude=45))\n",
    "air_c[0,:,:].plot.imshow(ax=ax, transform=ccrs.PlateCarree(),cmap=plt.cm.get_cmap('jet'))\n",
    "ax.coastlines()\n",
    "ax.gridlines()\n",
    "\n",
    "# Add a dot showing the location of Hanover:\n",
    "hlat = 43.7; hlon = -72.29\n",
    "ax.scatter(hlon, hlat, transform=ccrs.PlateCarree(), c='black', marker='*', s=1000)\n",
    "plt.show()"
   ]
  },
  {
   "cell_type": "markdown",
   "metadata": {
    "colab_type": "text",
    "id": "n_9hkPM9jsJI"
   },
   "source": [
    "### Problem #2\n",
    "\n",
    "2A - Plot the same orthographic projection of the air temperature as above. This time, add a dot showing the location of your favorite city in the United States. "
   ]
  },
  {
   "cell_type": "code",
   "execution_count": null,
   "metadata": {
    "colab": {},
    "colab_type": "code",
    "id": "TCKD2MFckH9L"
   },
   "outputs": [],
   "source": [
    "# ENTER CODE HERE"
   ]
  },
  {
   "cell_type": "markdown",
   "metadata": {
    "colab_type": "text",
    "id": "Hf4gPAovwT90"
   },
   "source": [
    "2B - Interpret the surface air temperature of your favorite city using the plot. "
   ]
  },
  {
   "cell_type": "code",
   "execution_count": null,
   "metadata": {
    "colab": {},
    "colab_type": "code",
    "id": "-Ug6lREgkKKe"
   },
   "outputs": [],
   "source": [
    "# ENTER REPONSE HERE"
   ]
  },
  {
   "cell_type": "markdown",
   "metadata": {
    "colab_type": "text",
    "id": "lgCbFNjLkDi9"
   },
   "source": [
    "## #3. Data Analysis\n",
    "\n",
    "Ok, so we've got absolute surface air temperatures plotted on January 1st. \n",
    "Nothing too special there. It would be great if we could see these same data with some kind of reference point. Like if we somehow knew whether the temperature on this days was higher, lower, or consistent with the average temperature during that month. \n",
    "\n",
    "What we want is called an anomaly. A value expressed as a departure from an average. Typically, we do it from a long-term average, like all of the January 1s from the previous 30 or so years. But here we've only got one year of data. So let's get some context by assessing January 1 relative to the January average. First, we need to calculate the monthly average for these data:"
   ]
  },
  {
   "cell_type": "code",
   "execution_count": null,
   "metadata": {
    "colab": {},
    "colab_type": "code",
    "id": "s-6nS2AstVuC"
   },
   "outputs": [],
   "source": [
    "# First, we're going to use the power of xarray to group the data by month and then\n",
    "# Take the average across all of those days falling into that group.\n",
    "air_clim = air_c.groupby('time.month').mean(dim='time') \n",
    "air_clim.sizes"
   ]
  },
  {
   "cell_type": "markdown",
   "metadata": {
    "colab_type": "text",
    "id": "-Xse38JstXSD"
   },
   "source": [
    "Ok, so that looks like it worked. We now have an array called `air_clim` that is the monthly average surface air temperature. Let's see what that looks like as a time series at a random place, like near Hanover: "
   ]
  },
  {
   "cell_type": "code",
   "execution_count": null,
   "metadata": {
    "colab": {},
    "colab_type": "code",
    "id": "6T1AgzKHtYlA"
   },
   "outputs": [],
   "source": [
    "air_clim.sel(lon=-72.29, lat=43.7, method='nearest').plot() #plot the long-term daily average \n",
    "air_clim"
   ]
  },
  {
   "cell_type": "markdown",
   "metadata": {
    "colab_type": "text",
    "id": "0E5dY3PptaP5"
   },
   "source": [
    "Ok, seems like monthly data. We have Hanover warming to a peak in July (month 7) and cooling into December. Passes the smell test! \n",
    "\n",
    "Now we need to estimate how each day in each month departs from that monthly mean. We do that by subtracting out the corresponding monthly average from each day:"
   ]
  },
  {
   "cell_type": "code",
   "execution_count": null,
   "metadata": {
    "colab": {},
    "colab_type": "code",
    "id": "Mc73uXygtbwa"
   },
   "outputs": [],
   "source": [
    "air_anom = air_c.groupby('time.month') - air_clim\n",
    "air_anom.sizes"
   ]
  },
  {
   "cell_type": "markdown",
   "metadata": {
    "colab_type": "text",
    "id": "XzeVU4Z2tdh-"
   },
   "source": [
    "Ok, `air_anom` has the anomalies for all of the longitude and latitude coordinates. We want to  take a look at a time series of these anomalies at Hanover.\n",
    "\n",
    "We'll specify the longitude as -72.29 and latitude as 43.7 for the coordinates for Hanover. "
   ]
  },
  {
   "cell_type": "code",
   "execution_count": null,
   "metadata": {
    "colab": {},
    "colab_type": "code",
    "id": "z7WjiISPte5q"
   },
   "outputs": [],
   "source": [
    "# Plot the long-term daily average \n",
    "air_anom.sel(lon=-72.29, lat=43.7, method='nearest').plot() "
   ]
  },
  {
   "cell_type": "markdown",
   "metadata": {
    "colab_type": "text",
    "id": "1kY6sJBCtgu-"
   },
   "source": [
    "Cool! Looks like we have each day's air temperature as a departure from the monthly average. Not fully a climatology, but it gives us some reference for whether or not a day is warmer or cooler than expected. \n",
    "\n",
    "Let's look at that Orthographic projection of surface air temperatures for January 1 again, but this time as our anomaly:"
   ]
  },
  {
   "cell_type": "code",
   "execution_count": null,
   "metadata": {
    "colab": {},
    "colab_type": "code",
    "id": "4LE4Fif3th34"
   },
   "outputs": [],
   "source": [
    "# Let's view the anomaly as a spatial plot\n",
    "\n",
    "fig=plt.figure(figsize=(12, 8) )\n",
    "lat = f.lat # index latitude\n",
    "lon = f.lon # index longititude\n",
    "\n",
    "ax=plt.axes(projection=ccrs.Orthographic(central_longitude=-100, central_latitude=45))\n",
    "air_anom[0,:,:].plot.imshow(ax=ax, transform=ccrs.PlateCarree(),cmap=plt.cm.get_cmap('jet'))\n",
    "ax.coastlines()\n",
    "ax.gridlines()\n",
    "\n",
    "# Add a dot showing the location of Hanover:\n",
    "hlat = 43.7; hlon = -72.29\n",
    "ax.scatter(hlon, hlat, transform=ccrs.PlateCarree(), c='black', marker='*', s=1000)\n",
    "plt.show()"
   ]
  },
  {
   "cell_type": "markdown",
   "metadata": {
    "colab_type": "text",
    "id": "S1G79-i1tp1_"
   },
   "source": [
    "### Problem #3\n",
    "\n",
    "3A - Plot a line graph of the temperature anomaly for Russia (45N, 80E)."
   ]
  },
  {
   "cell_type": "code",
   "execution_count": null,
   "metadata": {
    "colab": {},
    "colab_type": "code",
    "id": "o07_Qs7mjcoG"
   },
   "outputs": [],
   "source": [
    "# ENTER CODE HERE"
   ]
  },
  {
   "cell_type": "markdown",
   "metadata": {
    "colab_type": "text",
    "id": "VkLyKysVtsUu"
   },
   "source": [
    "3B -  Plot, using an orthographic projection like the one above, the temperature anomaly for Russia (45N, 80E) in August. \n",
    "\n",
    "Hint #1: First, you can use the operator `.loc` on the anomaly data to find the August.\n",
    "\n",
    "Please comment on each line of code you write, explaining the purpose of each code, even if the code is being copied.\n"
   ]
  },
  {
   "cell_type": "code",
   "execution_count": null,
   "metadata": {
    "colab": {},
    "colab_type": "code",
    "id": "nAR_HLWYttpd"
   },
   "outputs": [],
   "source": [
    "# ENTER CODE HERE"
   ]
  },
  {
   "cell_type": "markdown",
   "metadata": {
    "colab_type": "text",
    "id": "vzXHQut9tvIX"
   },
   "source": [
    "3C - Explain what you see."
   ]
  },
  {
   "cell_type": "code",
   "execution_count": null,
   "metadata": {
    "colab": {},
    "colab_type": "code",
    "id": "X3Q81C2Utwzx"
   },
   "outputs": [],
   "source": [
    "# ENTER RESPONSE HERE"
   ]
  },
  {
   "cell_type": "markdown",
   "metadata": {
    "colab_type": "text",
    "id": "nP6JKklik8_G"
   },
   "source": [
    "### Problem #4\n",
    "\n",
    "4A - Use the `!curl -O` function we used earlier to download the air temperature data, but this time, download the monthly surface pressure data from NCEP. \n",
    "The data is at this link: `https://downloads.psl.noaa.gov/Datasets/ncep.reanalysis2/Monthlies/surface/mslp.mon.mean.nc`"
   ]
  },
  {
   "cell_type": "code",
   "execution_count": null,
   "metadata": {
    "colab": {},
    "colab_type": "code",
    "id": "ZQxa_j7Zt248"
   },
   "outputs": [],
   "source": [
    "# ENTER CODE HERE"
   ]
  },
  {
   "cell_type": "code",
   "execution_count": null,
   "metadata": {
    "colab": {},
    "colab_type": "code",
    "id": "fa9fvLj40q5h"
   },
   "outputs": [],
   "source": [
    "# View the data"
   ]
  },
  {
   "cell_type": "markdown",
   "metadata": {
    "colab_type": "text",
    "id": "4CUSvCjLt4Ou"
   },
   "source": [
    "4B - This is monthly surface pressure data from 1979 to the present. What are the units?"
   ]
  },
  {
   "cell_type": "code",
   "execution_count": null,
   "metadata": {
    "colab": {},
    "colab_type": "code",
    "id": "52y1zlY9t4fG"
   },
   "outputs": [],
   "source": [
    "# ENTER RESPONSE HERE"
   ]
  },
  {
   "cell_type": "markdown",
   "metadata": {
    "colab_type": "text",
    "id": "WekIB6C6t687"
   },
   "source": [
    "4C - Calculate each month as an anomaly from all other months in the dataset."
   ]
  },
  {
   "cell_type": "code",
   "execution_count": null,
   "metadata": {
    "colab": {},
    "colab_type": "code",
    "id": "Dy-w0GEXt-cZ"
   },
   "outputs": [],
   "source": [
    "# ENTER CODE HERE"
   ]
  },
  {
   "cell_type": "markdown",
   "metadata": {
    "colab_type": "text",
    "id": "tynmrVxLwnwP"
   },
   "source": [
    "4D - Plot the surface pressure for the preceding month of July 2010 over Russia using the same orthographic projection. "
   ]
  },
  {
   "cell_type": "code",
   "execution_count": null,
   "metadata": {
    "colab": {},
    "colab_type": "code",
    "id": "sSfC6eZ0wnB3"
   },
   "outputs": [],
   "source": [
    "# ENTER CODE HERE"
   ]
  },
  {
   "cell_type": "markdown",
   "metadata": {
    "colab_type": "text",
    "id": "T-HGFlyyc0uc"
   },
   "source": [
    "4E - Interpret your plot."
   ]
  },
  {
   "cell_type": "code",
   "execution_count": null,
   "metadata": {
    "colab": {},
    "colab_type": "code",
    "id": "SkoBUY_Nc2rq"
   },
   "outputs": [],
   "source": [
    "# ENTER RESPONSE HERE"
   ]
  },
  {
   "cell_type": "markdown",
   "metadata": {},
   "source": [
    "### Who did you work on this problem set with? What was the nature of that collaboration?"
   ]
  },
  {
   "cell_type": "code",
   "execution_count": null,
   "metadata": {},
   "outputs": [],
   "source": []
  },
  {
   "cell_type": "markdown",
   "metadata": {},
   "source": [
    "# Process Log (to complete):\n",
    "\n",
    "How did you approach these problems?\n",
    "\n",
    "Did you run into any errors or confusing results? What were they?\n",
    "\n",
    "What changes did you make to fix or improve your code?\n",
    "\n",
    "What was the most important thing you learned from this exercise?"
   ]
  },
  {
   "cell_type": "code",
   "execution_count": null,
   "metadata": {},
   "outputs": [],
   "source": []
  }
 ],
 "metadata": {
  "colab": {
   "authorship_tag": "ABX9TyOy0J6XoxZXOdF0SSja2ywg",
   "name": "DIFUSE_GEOG36_PS5.ipynb",
   "provenance": []
  },
  "kernelspec": {
   "display_name": "Python mankin",
   "language": "python",
   "name": "mankin"
  },
  "language_info": {
   "codemirror_mode": {
    "name": "ipython",
    "version": 3
   },
   "file_extension": ".py",
   "mimetype": "text/x-python",
   "name": "python",
   "nbconvert_exporter": "python",
   "pygments_lexer": "ipython3",
   "version": "3.7.12"
  }
 },
 "nbformat": 4,
 "nbformat_minor": 4
}
