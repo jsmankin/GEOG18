{
 "cells": [
  {
   "cell_type": "markdown",
   "metadata": {
    "colab_type": "text",
    "id": "dnhY86X-hlqE"
   },
   "source": [
    "# Problem Set #3\n",
    "\n",
    "We spend a lot of time looking at scientific data visualizations or figures in our class. In this problem set, we will learn and produce different types of visualizations that can be created in Python.\n",
    "\n",
    "## Learning objectives:\n",
    "1. Generate various types of plots to visualize climate data\n",
    "2. Interpret results from generated plots\n",
    "\n",
    "**Total points for this problem set: 27 pts**\n",
    "*   Example codes executed: 5 pts\n",
    "*   Correct answers to problems: 17 pts\n",
    "*   Comments added to responses: 5 pts\n",
    "\n",
    "**Please do not forget to add comments (with the # sign) next to your code for all of the problems to explain what you are doing. Also, recall that collaboration with others is not simply sharing the answer; it is sharing understanding.**"
   ]
  },
  {
   "cell_type": "markdown",
   "metadata": {
    "colab_type": "text",
    "id": "C_JWuK-Lh0sI"
   },
   "source": [
    "## #1. Matplotlib\n",
    "\n",
    "While Python offers a large range of packages for plotting spatio-temporal data, we will start with the most generic interface to create maps: `matplotlib`. Most of other Python packages used for plotting spatio-temporal data are based on matplotlib.\n",
    "\n",
    "Something to keep in mind as you search for help on the internet when using `matplotlib` is that the library has two user interfaces:\n",
    "\n",
    "*   The first mimics the plotting routines of a programming language called MATLAB, but instead uses Python.\n",
    "*   The second option is an object-oriented interface, which is much more powerful.\n",
    "\n",
    "When plotting with `matplotlib`, it is very important to know and understand that there are two approaches even though the reasons of this dual approach is outside the scope of this PS.\n",
    "\n",
    "To use the object-oriented [API](https://en.wikipedia.org/wiki/Application_programming_interface) we need to create a new figure instance and then store it as its own variable; we call this variable `fig` but you can choose any name. As you'll see in a bit, this is what we will need to do when we want to create more than one figure.\n",
    "\n",
    "Ok. So a figure can contain several plots (also called sub-plots) or just one plot. It's a vessel. A storage device, almost like a window. The first thing to do is to choose how many sub-plots your figure will contain. This is done with the add_subplot method:"
   ]
  },
  {
   "cell_type": "code",
   "execution_count": null,
   "metadata": {
    "colab": {},
    "colab_type": "code",
    "id": "zXTsn0vjxszF"
   },
   "outputs": [],
   "source": [
    "import matplotlib.pyplot as plt # import the matplotlib function\n",
    "fig = plt.figure() # a new figure window\n",
    "ax = fig.add_subplot(1,1,1) # Specifiy number of rows (nrows), number of columns (ncols), number of axes (axnum))"
   ]
  },
  {
   "cell_type": "markdown",
   "metadata": {
    "colab_type": "text",
    "id": "RBAXTE3OyMwK"
   },
   "source": [
    "Here we created one subplot. We will give another example afterwards to explain the arguments of the function add_subplot in more detail.\n",
    "\n",
    "Then we use the `ax` object to customize our subplot and finally plot data. For instance, we can add:\n",
    "\n",
    "*   a title to our subplot\n",
    "*   a title for x-axis and y-axis\n",
    "*   ticks at chosen location for x-axis and y-axis"
   ]
  },
  {
   "cell_type": "code",
   "execution_count": null,
   "metadata": {
    "colab": {},
    "colab_type": "code",
    "id": "Ikf0JV3fyQ3z"
   },
   "outputs": [],
   "source": [
    "import numpy as np\n",
    "\n",
    "fig = plt.figure()\n",
    "ax = fig.add_subplot(1, 1, 1) \n",
    "ax.set_title('Title of my subplot', fontsize=14)\n",
    "\n",
    "# set tick labels for x-axis\n",
    "ax.set_xticklabels(np.arange(10), rotation=45, fontsize=10 )\n",
    "# set a title for x-axis\n",
    "ax.set_xlabel(\"title for x-axis\")\n",
    "# choose where and how many ticks on the x-axes\n",
    "ax.set_xticks(np.arange(0, 10, 1.0))\n",
    "\n",
    "# set tick labels for y-axis\n",
    "ax.set_yticklabels(np.arange(5), rotation=45, fontsize=10 )\n",
    "# set a title for y-axis\n",
    "ax.set_ylabel(\"title for y-axis\")\n",
    "# choose where and how many ticks on the y-axes\n",
    "ax.set_yticks(np.arange(0, 5, 1.0))"
   ]
  },
  {
   "cell_type": "markdown",
   "metadata": {
    "colab_type": "text",
    "id": "b_Ep_lhuyUTK"
   },
   "source": [
    "So you can see as you pore over that few lines of code that you can have a tremendous amount of control over  a plot. You can see we now have axis labels and a title. "
   ]
  },
  {
   "cell_type": "markdown",
   "metadata": {
    "colab_type": "text",
    "id": "wk1tp1HuiFYh"
   },
   "source": [
    "### Problem #1\n",
    "\n",
    "In a code cell you create below, create an empty subplot as above, but with the following adjustments:\n",
    "\n",
    "\n",
    "1.   the x-axis is your first name\n",
    "2.   the y-axis is your last name\n",
    "3.   have the axis tick labels NOT be at a 45&deg; angle (i.e., normal vertical numbers)\n",
    "4.   name the figure \"My name\""
   ]
  },
  {
   "cell_type": "code",
   "execution_count": null,
   "metadata": {
    "colab": {},
    "colab_type": "code",
    "id": "UD75AxrowOdD"
   },
   "outputs": [],
   "source": [
    "# ENTER CODE HERE"
   ]
  },
  {
   "cell_type": "markdown",
   "metadata": {
    "colab_type": "text",
    "id": "tBMHnrQFv4qL"
   },
   "source": [
    "## #2. Line plots\n",
    "\n",
    "We can use matplotlib to plot Numpy arrays. \n",
    "\n",
    "Let's visualize maximum temperature  from Hanover in July 2020."
   ]
  },
  {
   "cell_type": "code",
   "execution_count": null,
   "metadata": {
    "colab": {},
    "colab_type": "code",
    "id": "Qpd-SYFxyJAH"
   },
   "outputs": [],
   "source": [
    "# Here is the maximum temperature from first 10 days of July 2020 in Hanover, NH\n",
    "import datetime #this is a library that creates date time objects, which is really powerful\n",
    "\n",
    "dates = [datetime.date(2020,7,1), #here are a bunch of dates.\n",
    "     datetime.date(2020,7,2),\n",
    "     datetime.date(2020,7,3),\n",
    "     datetime.date(2020,7,4),\n",
    "     datetime.date(2020,7,5),\n",
    "     datetime.date(2020,7,6),\n",
    "     datetime.date(2020,7,7),\n",
    "     datetime.date(2020,7,8),\n",
    "     datetime.date(2020,7,9),\n",
    "     datetime.date(2020,7,10)]\n",
    "\n",
    "# Temperature for each date\n",
    "temp = [78, 94, 82, 90, 88, 87, 85, 88, 94, 90]"
   ]
  },
  {
   "cell_type": "code",
   "execution_count": null,
   "metadata": {
    "colab": {},
    "colab_type": "code",
    "id": "3zjNv8jVyUyD"
   },
   "outputs": [],
   "source": [
    "# Plot\n",
    "%matplotlib inline\n",
    "fig = plt.figure()  # a new figure window\n",
    "ax = fig.add_subplot(1, 1, 1)  # specify (nrows, ncols, axnum)\n",
    "# set a title for this sub-plot\n",
    "ax.set_title('Hanover Temperature', fontsize=14)\n",
    "# set tick for x-axis\n",
    "ax.set_xticks(dates)\n",
    "# set labels for x-ticks (dates) and rotate them (45 degrees) for readability\n",
    "ax.set_xticklabels(dates, rotation=45, fontsize=10 )\n",
    "# set a title for x-axis\n",
    "ax.set_xlabel(\"Dates (YYYY-MM-DD)\")\n",
    "# set a title for y-axis\n",
    "ax.set_ylabel(\"Temperatures\")\n",
    "# plot nao_index as a function of dates.\n",
    "ax.plot(dates, temp)"
   ]
  },
  {
   "cell_type": "markdown",
   "metadata": {
    "colab_type": "text",
    "id": "IB__qJmK1m9U"
   },
   "source": [
    "### Problem #2\n",
    "\n",
    "Let's plot 10 days of the [North Atlantic Oscillation (NAO) index](https://www.ncdc.noaa.gov/teleconnections/nao/). The NAO, as you may recall from class, is mode of internal climate variability in the North Atlantic that influences Northern Hemisphere weather. The index itself is the difference in sea-level pressure (SLP) between a standing low pressure pattern near Iceland, [called the Iclandic Low](https://forecast.weather.gov/glossary.php?word=icelandic+low) and a subtropical standing high pressure pattern near the Azores, called [the Azores High](https://en.wikipedia.org/wiki/Azores_High). When this difference in pressure between the Icelandic Low and Azores High is large, the pressure gradient force is stronger, and so the winds in the jet stream move faster and straighter, steering storms into Northern Europe, rather than to the Mediterranean. This is the positive phase. The negative phase is when the difference between these two semi-permanent patters is smaller, which reduces the pressure gradient force and weakens the jet stream, leading to a meander in it that favors storms being steered farther south, to the Mediterranean."
   ]
  },
  {
   "cell_type": "code",
   "execution_count": null,
   "metadata": {
    "colab": {},
    "colab_type": "code",
    "id": "wDMv__sE2ult"
   },
   "outputs": [],
   "source": [
    "# Here is the data you will plot\n",
    "dates = [datetime.date( 2001,6,1), #here are a bunch of dates.\n",
    "     datetime.date( 2001,6,2),\n",
    "     datetime.date( 2001,6,3),\n",
    "     datetime.date( 2001,6,4),\n",
    "     datetime.date( 2001,6,5),\n",
    "     datetime.date( 2001,6,6),\n",
    "     datetime.date( 2001,6,7),\n",
    "     datetime.date( 2001,6,8),\n",
    "     datetime.date( 2001,6,9),\n",
    "     datetime.date( 2001,6,10)]\n",
    "# NAO index for each date\n",
    "nao_index = [ 0.132, -0.058, -0.321, -0.395, -0.216, -0.082, -0.023, -0.012, -0.012, -0.02]"
   ]
  },
  {
   "cell_type": "markdown",
   "metadata": {
    "colab_type": "text",
    "id": "Jwm1zE1YG2CR"
   },
   "source": [
    "2A - Please plot the NAO index data to be properly labeled, x-axis label rotation to be 90 degrees (vertical), and have the color of the line be black (you might need to use Google for this one)."
   ]
  },
  {
   "cell_type": "code",
   "execution_count": null,
   "metadata": {
    "colab": {},
    "colab_type": "code",
    "id": "mWS0DYUS9KO1"
   },
   "outputs": [],
   "source": [
    "# ENTER CODE HERE"
   ]
  },
  {
   "cell_type": "markdown",
   "metadata": {
    "colab_type": "text",
    "id": "j4naCbo4GcPs"
   },
   "source": [
    "2B - Interpret your results from 2A."
   ]
  },
  {
   "cell_type": "code",
   "execution_count": null,
   "metadata": {
    "colab": {},
    "colab_type": "code",
    "id": "-p-LezWjHjvd"
   },
   "outputs": [],
   "source": [
    "# ENTER RESPONSE HERE"
   ]
  },
  {
   "cell_type": "markdown",
   "metadata": {
    "colab_type": "text",
    "id": "QJqxgi37Qu-w"
   },
   "source": [
    "### Problem #3\n",
    "\n",
    "Now, we want to visualize NAO for a longer period of time than 10 days. \n",
    "\n",
    "Let's start by getting some data. Turns out a lot of data are stored on the cloud, with web addresses.\n",
    "\n",
    "We're going to use a technique called [`wget`](https://en.wikipedia.org/wiki/Wget), which is kind of analogous to GrubHub or whatever food delivery service. Except it's data that it delivers. So these are real data from NOAA."
   ]
  },
  {
   "cell_type": "code",
   "execution_count": null,
   "metadata": {
    "colab": {},
    "colab_type": "code",
    "id": "sqcICiVzQyOK"
   },
   "outputs": [],
   "source": [
    "import pandas as pd\n",
    "from pandas import Series, DataFrame\n",
    "pd.set_option('display.max_rows',15) # this limit maximum numbers of rows"
   ]
  },
  {
   "cell_type": "code",
   "execution_count": null,
   "metadata": {
    "colab": {},
    "colab_type": "code",
    "id": "2BoOA6NNQ1Ko"
   },
   "outputs": [],
   "source": [
    "# Let's download the monthly NAO index\n",
    "!wget http://www.cpc.ncep.noaa.gov/products/precip/CWlink/pna/norm.nao.monthly.b5001.current.ascii"
   ]
  },
  {
   "cell_type": "markdown",
   "metadata": {
    "colab_type": "text",
    "id": "R5BGzKSrQ4AB"
   },
   "source": [
    "Now let's leverage what we learned to create a Series out of each dataset. There's a lot in the code cell below. First, I'm loading the data I gathered with the `wget` command above, then I'm creating a date attribute for that data, then I'm turning it into a Pandas Series."
   ]
  },
  {
   "cell_type": "code",
   "execution_count": null,
   "metadata": {
    "colab": {},
    "colab_type": "code",
    "id": "6urZ13arQ6iG"
   },
   "outputs": [],
   "source": [
    "# Store it as an object\n",
    "nao = np.loadtxt('norm.nao.monthly.b5001.current.ascii')\n",
    "\n",
    "# Store dates as an object - starting from January 1950\n",
    "dates_nao = pd.date_range('1950-01', periods=nao.shape[0], freq='M')\n",
    "\n",
    "# Make a series data type of the NAO index\n",
    "NAO = Series(nao[:,2], index=dates_nao, name = \"NAO\")"
   ]
  },
  {
   "cell_type": "markdown",
   "metadata": {
    "colab_type": "text",
    "id": "ZwdxPxr1F93j"
   },
   "source": [
    "3A - Explore the NAO data we are working with. What does the index of the NAO series data look like?"
   ]
  },
  {
   "cell_type": "code",
   "execution_count": null,
   "metadata": {
    "colab": {},
    "colab_type": "code",
    "id": "B5P7fR56Q9RA"
   },
   "outputs": [],
   "source": [
    "# ENTER CODE & EXPLANATION HERE"
   ]
  },
  {
   "cell_type": "markdown",
   "metadata": {
    "colab_type": "text",
    "id": "je6KEoRvGDK_"
   },
   "source": [
    "3B - Make the series into a pandas DataFrame and save as a new object. Print the DataFrame.\n",
    "\n",
    "Hint: Function is `.to_frame()`."
   ]
  },
  {
   "cell_type": "code",
   "execution_count": null,
   "metadata": {
    "colab": {},
    "colab_type": "code",
    "id": "E0cBQwqHQ_is"
   },
   "outputs": [],
   "source": [
    "# ENTER CODE HERE"
   ]
  },
  {
   "cell_type": "markdown",
   "metadata": {
    "colab_type": "text",
    "id": "eXgUMV-tGJOD"
   },
   "source": [
    "3C - Plot the NAO data as a line plot. Don't specify the x-axis or its labels for this plot. *Do* specify the y-axis label and give the plot a title."
   ]
  },
  {
   "cell_type": "code",
   "execution_count": null,
   "metadata": {
    "colab": {},
    "colab_type": "code",
    "id": "cng2dPn-RCIH"
   },
   "outputs": [],
   "source": [
    "# ENTER CODE HERE"
   ]
  },
  {
   "cell_type": "markdown",
   "metadata": {
    "colab_type": "text",
    "id": "ga7zXpRkQz-O"
   },
   "source": [
    "3D - When you don't specify the x-axis labels, how does `matplotlib` label the x-axis? Is this how it is stored in the series object?"
   ]
  },
  {
   "cell_type": "code",
   "execution_count": null,
   "metadata": {
    "colab": {},
    "colab_type": "code",
    "id": "Pp4OqW6-Q1iu"
   },
   "outputs": [],
   "source": [
    "# ENTER RESPONSE HERE"
   ]
  },
  {
   "cell_type": "markdown",
   "metadata": {
    "colab_type": "text",
    "id": "b0qEWu3aGNbt"
   },
   "source": [
    "3E - What can you conclude about the North Atlantic Oscillation that you have plotted in 3C?"
   ]
  },
  {
   "cell_type": "code",
   "execution_count": null,
   "metadata": {
    "colab": {},
    "colab_type": "code",
    "id": "ZmyIkpExGVkj"
   },
   "outputs": [],
   "source": [
    "# ENTER RESPONSE HERE"
   ]
  },
  {
   "cell_type": "markdown",
   "metadata": {
    "colab_type": "text",
    "id": "e7xxcFaRiTNm"
   },
   "source": [
    "## #3. Bar Plot\n",
    "\n",
    "We can also use matplotlib to plot pandas data types. \n",
    "\n",
    "Let's visualize the disaster data from the previous problem set."
   ]
  },
  {
   "cell_type": "code",
   "execution_count": null,
   "metadata": {
    "colab": {},
    "colab_type": "code",
    "id": "-K0KzjMp9uUa"
   },
   "outputs": [],
   "source": [
    "import pandas as pd\n",
    "\n",
    "# Here is the data from MunichRE\n",
    "year = ['1996', '1997', '1998', '1999', '2000', '2001', '2002', '2003',\n",
    "        '2004', '2005', '2006', '2007', '2008', '2009', '2010', '2011',\n",
    "        '2012', '2013', '2014', '2015', '2016']\n",
    "\n",
    "disaster_counts = [448, 411, 469, 449, 523, 446, 443, 431, 380, 449, 554,\n",
    "                   602, 486, 531, 565, 528, 648, 585, 679, 745, 748]\n",
    "\n",
    "# Create a pandas Series\n",
    "MunichRE_disasters = pd.Series(disaster_counts, index= year)\n",
    "\n",
    "# View the time series data\n",
    "MunichRE_disasters"
   ]
  },
  {
   "cell_type": "code",
   "execution_count": null,
   "metadata": {
    "colab": {},
    "colab_type": "code",
    "id": "kfY85cmt-KbY"
   },
   "outputs": [],
   "source": [
    "# Let's visualize as bar plots\n",
    "MunichRE_disasters.plot(kind= \"bar\")\n",
    "plt.xlabel(\"Year\")\n",
    "plt.ylabel(\"Total # of disasters\")"
   ]
  },
  {
   "cell_type": "code",
   "execution_count": null,
   "metadata": {
    "colab": {},
    "colab_type": "code",
    "id": "hZR2u6KV-XrX"
   },
   "outputs": [],
   "source": [
    "# Let's change the color of the plot\n",
    "MunichRE_disasters.plot(kind= \"bar\", color = 'red')\n",
    "plt.xlabel(\"Year\")\n",
    "plt.ylabel(\"Total # of disasters\")"
   ]
  },
  {
   "cell_type": "markdown",
   "metadata": {
    "colab_type": "text",
    "id": "4qxpvkXo_RL8"
   },
   "source": [
    "### Problem #4\n",
    "How would we plot total number of disasters from all different sources?"
   ]
  },
  {
   "cell_type": "code",
   "execution_count": null,
   "metadata": {
    "colab": {},
    "colab_type": "code",
    "id": "ziuOg2v7_Qfc"
   },
   "outputs": [],
   "source": [
    "# Here is the data: \n",
    "Year = ['1996', '1997', '1998', '1999', '2000', '2001', '2002', '2003',\n",
    "                 '2004', '2005', '2006', '2007', '2008', '2009', '2010', '2011',\n",
    "                 '2012', '2013', '2014', '2015', '2016']\n",
    "Disasters = {'Sigma': [312, 303, 297, 296, 299, 298, 287, 322, 355, 421, 367, \n",
    "                       360, 334, 308, 345, 341, 326, 327, 344, 357, 335],\n",
    "        'MunichRe': [448, 411, 469, 449, 523, 446, 443, 431, 380, 449,\n",
    "                           554, 602, 486, 531, 565, 528, 648, 585, 679, 745, 748],\n",
    "             'EM-DAT': [83, 524, 585, 719, 893, 772, 893, 726, 764, 870, \n",
    "                        747, 728, 663, 614, 676, 601, 561, 544, 553, 600, 522]} \n",
    "Disasters = pd.DataFrame(Disasters, index= Year)\n",
    "\n",
    "# View\n",
    "Disasters"
   ]
  },
  {
   "cell_type": "markdown",
   "metadata": {
    "colab_type": "text",
    "id": "b9qT9KIPFru2"
   },
   "source": [
    "4A - Plot the total number of disasters per year for all disaster reporting sources in the same plot. "
   ]
  },
  {
   "cell_type": "code",
   "execution_count": null,
   "metadata": {
    "colab": {},
    "colab_type": "code",
    "id": "kbiAjxMaIMlI"
   },
   "outputs": [],
   "source": [
    "# ENTER CODE HERE"
   ]
  },
  {
   "cell_type": "markdown",
   "metadata": {
    "colab_type": "text",
    "id": "hmobN4RbFxRD"
   },
   "source": [
    "4B - Plot all disaster counts from all three reporting sources in separate plots at the same time.\n",
    "\n",
    "HINT: Try exploring subplots option within the plot function dataframe.plot(subplots = ?)\n"
   ]
  },
  {
   "cell_type": "code",
   "execution_count": null,
   "metadata": {
    "colab": {},
    "colab_type": "code",
    "id": "rae80xcKUuV7"
   },
   "outputs": [],
   "source": [
    "# ENTER CODE HERE"
   ]
  },
  {
   "cell_type": "markdown",
   "metadata": {
    "colab_type": "text",
    "id": "wq8QZrFCF2Up"
   },
   "source": [
    "4C - Interpret the results of your plot here. Do you see any trends? Are there any differences or similarities between the different reporting sources?\n"
   ]
  },
  {
   "cell_type": "code",
   "execution_count": null,
   "metadata": {
    "colab": {},
    "colab_type": "code",
    "id": "2DkziIyYIROA"
   },
   "outputs": [],
   "source": [
    "# ENTER RESPONSE HERE"
   ]
  },
  {
   "cell_type": "markdown",
   "metadata": {
    "colab_type": "text",
    "id": "bRqNd7vmSBk-"
   },
   "source": [
    "### Problem #5\n",
    "\n",
    "Now we will be working with North Atlantic Oscillation (NAO) and Artic Oscillation (AO) data together, to visualize data in different plots. \n",
    "\n",
    "To set up, let's download and create a dataset we can use for AO.\n"
   ]
  },
  {
   "cell_type": "code",
   "execution_count": null,
   "metadata": {
    "colab": {},
    "colab_type": "code",
    "id": "u-QoWcFK917X"
   },
   "outputs": [],
   "source": [
    "# Here is the link to download AO\n",
    "!wget http://www.cpc.ncep.noaa.gov/products/precip/CWlink/daily_ao_index/monthly.ao.index.b50.current.ascii\n",
    "\n",
    "# Create a Series\n",
    "ao = np.loadtxt('monthly.ao.index.b50.current.ascii')\n",
    "dates = pd.date_range('1950-01', periods=ao.shape[0], freq='M')\n",
    "AO = Series(ao[:,2], index=dates, name = \"AO\")"
   ]
  },
  {
   "cell_type": "markdown",
   "metadata": {
    "colab_type": "text",
    "id": "TkP-ZTWoFc80"
   },
   "source": [
    "5A - Think back to working with pandas data types in the previous problem set. Create a DataFrame that has AO in one column, and NAO in another column.\n",
    "Hint: Think of the `.join` function."
   ]
  },
  {
   "cell_type": "code",
   "execution_count": null,
   "metadata": {
    "colab": {},
    "colab_type": "code",
    "id": "ABik-Jk1Sji6"
   },
   "outputs": [],
   "source": [
    "# ENTER CODE HERE"
   ]
  },
  {
   "cell_type": "markdown",
   "metadata": {
    "colab_type": "text",
    "id": "ATC5EVULFh8l"
   },
   "source": [
    "5B - Plot AO and NAO at the same time in separate plots. What type of graph would be appropriate for AO and NAO?\n",
    "\n"
   ]
  },
  {
   "cell_type": "code",
   "execution_count": null,
   "metadata": {
    "colab": {},
    "colab_type": "code",
    "id": "NRGbTxhVS55E"
   },
   "outputs": [],
   "source": [
    "# ENTER CODE HERE"
   ]
  },
  {
   "cell_type": "markdown",
   "metadata": {
    "colab_type": "text",
    "id": "ifIgekykFki3"
   },
   "source": [
    "5C - Think back to how we can slice DataFrames. Plot a line graph of the NAO and the AO index for days that AO has a negative value, and NAO has a positive value.\n"
   ]
  },
  {
   "cell_type": "code",
   "execution_count": null,
   "metadata": {
    "colab": {},
    "colab_type": "code",
    "id": "l07oYnj1TaWw"
   },
   "outputs": [],
   "source": [
    "# ENTER CODE HERE  "
   ]
  },
  {
   "cell_type": "markdown",
   "metadata": {
    "colab_type": "text",
    "id": "qq-xKhkNiXxD"
   },
   "source": [
    "## #4. Spatial Plot\n",
    "\n",
    "We can't finish out the problem sets for a Geography class without a  brief tutorial on making nice looking spatial plots. So now we will look at the `Cartopy` toolkit extension for `matplotlib`. `Cartopy` allows you to create map plots in Python. It extends `matplotlib's` functionality by adding geographical projections and some datasets for plotting coast lines and political boundaries, among other things.\n",
    "\n",
    "We only have time to cover a few examples here, which I have modified from a few places:\n",
    "\n",
    "[Cartopy online documentation](https://scitools.org.uk/cartopy/docs/latest/)\n",
    "\n",
    "[Cartopy tutorial](https://cartopy-pelson.readthedocs.io/en/readthedocs/matplotlib/intro.html)\n",
    "\n",
    "For our tutorial, we will also be loading some data files that use the [netCDF4](https://unidata.github.io/netcdf4-python/) data format, so you will also need to install netcdf4 as well. Take a look at that link. It's poorly-written, which is unfortunate, but the thing to know is that a lot of climate science data are as standardized as possible, and the netcdf format is really helpful in that regard. It's essentially just a file format that is super convenient for big data files. `netcdf` files end in `.nc` "
   ]
  },
  {
   "cell_type": "code",
   "execution_count": null,
   "metadata": {
    "colab": {},
    "colab_type": "code",
    "id": "VLVvYkn_XPMa"
   },
   "outputs": [],
   "source": [
    "import cartopy\n",
    "import cartopy.crs as ccrs\n",
    "import netCDF4"
   ]
  },
  {
   "cell_type": "markdown",
   "metadata": {
    "colab_type": "text",
    "id": "5sGWdVS8XTxm"
   },
   "source": [
    "### 4.1 Simple Maps\n",
    "\n",
    "First let's import the additional packages we will need. "
   ]
  },
  {
   "cell_type": "code",
   "execution_count": null,
   "metadata": {
    "colab": {},
    "colab_type": "code",
    "id": "z3ySf0lLXYbi"
   },
   "outputs": [],
   "source": [
    "import matplotlib.pyplot as plt # Import matplotlib\n",
    "import numpy as np \n",
    "%matplotlib inline \n",
    "import warnings # This is a package that suppresses developer warnings see here: https://www.lesinskis.com/python_deprecation_tutorial.html\n",
    "import matplotlib.cbook\n",
    "warnings.filterwarnings(\"ignore\",category=matplotlib.MatplotlibDeprecationWarning) # this uses the warnings library to suppress warnings so the code will run"
   ]
  },
  {
   "cell_type": "markdown",
   "metadata": {
    "colab_type": "text",
    "id": "aLumT5D0Xcor"
   },
   "source": [
    "Our first example will create a Mercator projection plot of the continents."
   ]
  },
  {
   "cell_type": "code",
   "execution_count": null,
   "metadata": {
    "colab": {},
    "colab_type": "code",
    "id": "VGddJIhxXhgr"
   },
   "outputs": [],
   "source": [
    "fig = plt.figure(num=None, figsize=(12, 8) ) # we created a plotting window or container in which our map will sit\n",
    "ax = plt.axes(projection=ccrs.Mercator()) # we added a Mercator projection to the axes of the plot\n",
    "ax.coastlines(resolution='110m') # we are showing the coastlines with a resolution of 110 m\n",
    "plt.title(\"Mercator Projection\") #create a title for the object\n",
    "plt.show() # plot it!\n"
   ]
  },
  {
   "cell_type": "markdown",
   "metadata": {
    "colab_type": "text",
    "id": "vZCNFOVEXkQJ"
   },
   "source": [
    "Now let's make a similar plot but with additional Cartopy options that make it look better, such as adding colors to distinguish continents from oceans, and perhaps some lines of latitude and longitude:"
   ]
  },
  {
   "cell_type": "code",
   "execution_count": null,
   "metadata": {
    "colab": {},
    "colab_type": "code",
    "id": "7PnN7u2GXjxt"
   },
   "outputs": [],
   "source": [
    "fig = plt.figure(num=None, figsize=(12, 8) ) # plot container\n",
    "m = plt.axes(projection=ccrs.Mercator()) # create the map as an object\n",
    "m.coastlines(resolution='110m') # draw coastlines\n",
    "m.gridlines() # add lines of latitude and longitude\n",
    "m.add_feature(feature=cartopy.feature.OCEAN) # fill the ocean with blue\n",
    "m.add_feature(feature=cartopy.feature.LAND) # fill the ocean with tan\n",
    "plt.title(\"Mercator Projection\") # Create a figure title.\n"
   ]
  },
  {
   "cell_type": "markdown",
   "metadata": {
    "colab_type": "text",
    "id": "7vNdI0W1Xo8j"
   },
   "source": [
    "Ok, that's cool. But a [Mercator projection](http://mathworld.wolfram.com/MercatorProjection.html) biases land areas towards the poles. It makes them too large. This is because no map projection can preserve the angles between things on Earth, and the relative size of those things. This is because Earth is a sphere and a map is flat. Take a look at the following gif, which animates the true size of the land areas versus that projected by the Mercator transform: Ok, that's cool. But a [Mercator projection](http://mathworld.wolfram.com/MercatorProjection.html) biases land areas towards the poles. It makes them too large. This is because no map projection can preserve the angles between things on Earth, and the relative size of those things. This is because Earth is a sphere and a map is flat. Take a look at the following gif, which animates the true size of the land areas versus that projected by the Mercator transform: "
   ]
  },
  {
   "cell_type": "markdown",
   "metadata": {
    "colab_type": "text",
    "id": "GxElOSpVXsCS"
   },
   "source": [
    "So let's instead try the same sequence of commands but with a different projection, like the [Mollweide](http://mathworld.wolfram.com/MollweideProjection.html) projection:"
   ]
  },
  {
   "cell_type": "code",
   "execution_count": null,
   "metadata": {
    "colab": {},
    "colab_type": "code",
    "id": "TaXezGY2Xu3q"
   },
   "outputs": [],
   "source": [
    "fig = plt.figure(num=None, figsize=(12, 8) ) # plot container\n",
    "m = plt.axes(projection=ccrs.Mollweide()) # create the map as an object\n",
    "m.coastlines(resolution='110m') # draw coastlines\n",
    "m.gridlines() # add lines of latitude and longitude\n",
    "m.add_feature(feature=cartopy.feature.OCEAN) # fill the ocean with blue\n",
    "m.add_feature(feature=cartopy.feature.LAND) # fill the ocean with tan\n",
    "plt.title(\"Mollweide Projection\") # Create a figure title."
   ]
  },
  {
   "cell_type": "markdown",
   "metadata": {
    "colab_type": "text",
    "id": "GzbLaGXkX1zW"
   },
   "source": [
    "### Problem #6\n",
    "\n",
    "What is the line of code that changed the spatial plot from Mercator to Mollweide projection in the code above?"
   ]
  },
  {
   "cell_type": "code",
   "execution_count": null,
   "metadata": {
    "colab": {},
    "colab_type": "code",
    "id": "grCpmCFdYHLX"
   },
   "outputs": [],
   "source": [
    "# ENTER RESPONSE HERE"
   ]
  },
  {
   "cell_type": "markdown",
   "metadata": {
    "colab_type": "text",
    "id": "VKmC5PKWYM6k"
   },
   "source": [
    "### 4.2 Downloading and plotting climate data#\n",
    "\n",
    "Here's an example taken from the [NOAA GFS-Wave website](https://polar.ncep.noaa.gov/waves/viewer.shtml). NOAA, or the National Oceanic and Atmospheric Administration, has a bunch of forecast models.\n",
    "\n",
    "This example will read in a recent GFS-Wave model and plot up the significant wave height. \n",
    "\n",
    "We have downloaded the data from 4/19/2023 for you."
   ]
  },
  {
   "cell_type": "code",
   "execution_count": null,
   "metadata": {
    "colab": {},
    "colab_type": "code",
    "id": "4aPYN4m1Yj-E"
   },
   "outputs": [],
   "source": [
    "# Set up the figure\n",
    "fig=plt.figure(figsize=(12, 8) )\n",
    "\n",
    "# Set up the path to access the data that is on our server\n",
    "\n",
    "path='/home/jovyan/shared/GEOG18/gfswave_data.nc' #this is where the data are located on jhub\n",
    "\n",
    "# Extract the significant wave height of combined wind waves and swell\n",
    "file = netCDF4.Dataset(path) # here we're creating a connection to the dataset, which is stored on the internet by NOAA\n",
    "time = file.variables['time'][:]\n",
    "lat  = file.variables['lat'][:] # we are getting the coordinate data for latitudes. \n",
    "lon  = file.variables['lon'][:] # same as above, but for longitudes.  \n",
    "data = file.variables['htsgwsfc'] # here we're reading the data at all lats and lons.\n",
    "\n",
    "# Set up a map with a Miller projection on the figure that we created at the top of this code box:\n",
    "m = plt.axes(projection=ccrs.Miller())\n",
    "h= m.pcolormesh(lon, lat, data, transform= ccrs.Miller(), cmap=plt.cm.jet) # Plot the field using the fast pcolormesh routine, Set the colormap (cmap) to jet colors -- blue to red.\n",
    "\n",
    "# Make a properly sized color bar and map it to the data that we plotted above\n",
    "from mpl_toolkits.axes_grid1.axes_divider import make_axes_locatable \n",
    "divider = make_axes_locatable(m) \n",
    "cax = divider.new_horizontal(size=\"5%\", pad=0.1, axes_class=plt.Axes) \n",
    "plt.colorbar(h, ax=m, cax= cax) \n",
    "\n",
    "\n",
    "# Add a coastline, gridlines, and land\n",
    "m.coastlines(resolution='110m')\n",
    "m.gridlines()\n",
    "m.add_feature(feature=cartopy.feature.LAND)\n",
    "\n",
    "\n",
    "# Display the colorbar and title, and then show the plot.\n",
    "plt.title('GFS Wave Significant Wave Height from NOMADS [m]')\n",
    "fig.add_axes(cax)\n",
    "plt.show()"
   ]
  },
  {
   "attachments": {},
   "cell_type": "markdown",
   "metadata": {
    "colab_type": "text",
    "id": "jJV4wAVjYzI5"
   },
   "source": [
    "Click on the `url` link below based on the date we chose for you. Note the date embedded in the directory path: '/20251017/'. If the link isn't working, update the date to be the current date (e.g., 20 OCT 25 would be 20251020). Take a close look at the metadata for the dataset you just plotted."
   ]
  },
  {
   "cell_type": "code",
   "execution_count": null,
   "metadata": {
    "colab": {},
    "colab_type": "code",
    "id": "7A5GPBj2Y1IV"
   },
   "outputs": [],
   "source": [
    "print('http://nomads.ncep.noaa.gov:80/dods/wave/gfswave/20251017/gfswave.global.0p16_00z')"
   ]
  },
  {
   "cell_type": "markdown",
   "metadata": {
    "colab_type": "text",
    "id": "TlvwmfxEY4hm"
   },
   "source": [
    "It tells you a ton of information, from the spatial and temporal resolution of the data, to the variables included in the data set. \n",
    "\n",
    "Climate data are typically gridded, meaning that you have values at discrete locations or grid boxes (hence gridded) around the Earth. So above we have wave heights (from both ocean swell and from wind) at discrete locations (in contrast to data at every single point location on Earth, which would be impossible). \n",
    "\n",
    "So to have a sense of what location on Earth any one data value corresponds to, we need to have a latitude value and longitude value associated with those data. "
   ]
  },
  {
   "cell_type": "markdown",
   "metadata": {
    "colab_type": "text",
    "id": "_1m5-4maZaQW"
   },
   "source": [
    "### Problem #7\n",
    "\n",
    "Use the code that created the wave height plot above. Instead plot the surface *wind speeds* in meters per second. Make sure to rename the title of the plot as appropriate.\n",
    "\n",
    "The variable name for wind speed is 'windsfc'"
   ]
  },
  {
   "cell_type": "code",
   "execution_count": null,
   "metadata": {
    "colab": {},
    "colab_type": "code",
    "id": "43dCGpzTZfLP"
   },
   "outputs": [],
   "source": [
    "# ENTER CODE HERE"
   ]
  },
  {
   "cell_type": "code",
   "execution_count": null,
   "metadata": {},
   "outputs": [],
   "source": [
    "# Process Log (to complete):\n",
    "\n",
    "How did you approach these problems?\n",
    "\n",
    "Did you run into any errors or confusing results? What were they?\n",
    "\n",
    "What changes did you make to fix or improve your code?\n",
    "\n",
    "What was the most important thing you learned from this exercise?"
   ]
  },
  {
   "cell_type": "markdown",
   "metadata": {},
   "source": [
    "### Who did you work on this problem set with? What was the nature of that collaboration?"
   ]
  },
  {
   "cell_type": "code",
   "execution_count": null,
   "metadata": {},
   "outputs": [],
   "source": []
  }
 ],
 "metadata": {
  "colab": {
   "collapsed_sections": [
    "QJqxgi37Qu-w",
    "4qxpvkXo_RL8",
    "bRqNd7vmSBk-",
    "5sGWdVS8XTxm",
    "GzbLaGXkX1zW",
    "VKmC5PKWYM6k",
    "_1m5-4maZaQW"
   ],
   "name": "DIFUSE_GEOG36_PS3.ipynb",
   "provenance": []
  },
  "kernelspec": {
   "display_name": "Python mankin",
   "language": "python",
   "name": "mankin"
  },
  "language_info": {
   "codemirror_mode": {
    "name": "ipython",
    "version": 3
   },
   "file_extension": ".py",
   "mimetype": "text/x-python",
   "name": "python",
   "nbconvert_exporter": "python",
   "pygments_lexer": "ipython3",
   "version": "3.9.7"
  }
 },
 "nbformat": 4,
 "nbformat_minor": 2
}
