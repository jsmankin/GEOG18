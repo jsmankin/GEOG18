{
 "cells": [
  {
   "cell_type": "markdown",
   "metadata": {
    "colab_type": "text",
    "id": "VpWWuLEoBC08"
   },
   "source": [
    "# Problem Set #1\n",
    "## Introduction to Python for Climate Science\n",
    "*Don't be scared!  I've done most the coding for you.*\n",
    "\n",
    "(Some of this intro stuff is mostly copied from the [official python tutorial](https://docs.python.org/3/tutorial/)). \n",
    "\n",
    "This course fulfills a science (SCI) distributive requirement. \n",
    "\n",
    "Much of climate science is the application of fundamental physics (e.g., F=MA) to the Earth system. \n",
    "\n",
    "In modern climate science, a huge amount research is performed using scientific computing. It is essentially a data science.\n",
    "\n",
    "In the analysis of climate & weather extremes, the subject matter of this course, most of it is performed with computing. [Not all of us get to fly planes into hurricanes.](https://www.youtube.com/watch?v=6gFWwtZX6Sg)\n",
    "\n",
    "So instead of getting you some flying experience, we're going to get you some coding experience. So you're going to learn a bit of one of the most versatile programming languages, `Python`. \n",
    "#### **Overall objectives of problem sets:**\n",
    "1. Demystify scientific computing and programming using Python\n",
    "2. Recognize commonly used data in climate science\n",
    "3. Apply Python computing methods to climate data\n",
    "4. Interpret results generated from scientific computing\n",
    "\n",
    "\n"
   ]
  },
  {
   "cell_type": "markdown",
   "metadata": {
    "colab_type": "text",
    "id": "2whZhY7rg-5S"
   },
   "source": [
    "### **Learning objectives of Problem Set #1**\n",
    "\n",
    "1. Explore basic principles of Python\n",
    "2. Learn commonly used functions to explore simple, relevant climate data\n",
    "\n",
    "**Total points for this problem set: 21 pts**\n",
    "*   Example codes executed: 5 pts\n",
    "*   Correct answers to problems: 11 pts\n",
    "*   Comments added to responses: 5 pts"
   ]
  },
  {
   "cell_type": "markdown",
   "metadata": {
    "colab_type": "text",
    "id": "Bzt32g_JYlZw"
   },
   "source": [
    "## #1. Invoking Python #\n",
    "\n",
    "There are three main ways to use python.\n",
    "\n",
    "1. By running a python file, which is like a text file that contains coding commands, e.g. `python myscript.py`\n",
    "1. Through an interactive console (Python interpreter or iPython shell)\n",
    "1. In an interactive iPython/Jupyter notebook\n",
    "\n",
    "We will be using the iPython notebook, also known as a Jupyter Notebook, which is this webage you're currently reading.\n",
    "\n",
    "You could install Jupyter on your laptop via [Anaconda](https://www.anaconda.com/). However, instead of installing and compiling all of the code on your laptop (all the software dependencies, etc., making sure everyone has the same environment on a bunch of different laptops), you're just going to run all the analysis here, on this savable webpage, which is running on Dartmouth's Discovery Cluster (i.e., a network of computers) provided by your being a Dartmouth student. So you are all now using scientific cloud computing. Congrats!\n",
    "\n",
    "**How do I turn in my problem set?**\n",
    "\n",
    "You'll notice up above the menu bar that the notebook files have \".ipynb\" at the end. So when you edit, save, and download this file to turn in on Canvas (which we'll get to later), you will rename it to be called <YOUR_NAME>_PS1_GEOG18.ipynb. "
   ]
  },
  {
   "cell_type": "markdown",
   "metadata": {
    "colab_type": "text",
    "id": "LVgnVcjyYnta"
   },
   "source": [
    "## #2. Basic variables\n",
    "\n",
    "### 2.1 Basic Variable Types\n",
    "\n",
    "Below in the weirdly formatted text is your first ``code`` cell. It contains both comments (which tell us what the code is doing) and actual code (computer instructions) that the computer executes when you press the little play button to the left of the ``code`` cell. The comments come after a number sign (#). It tells the computer to ignore all the text on that line after it.\n",
    "\n",
    "There is a little empty bracket [  ] to the left of code block. If it is empty, it means that you have not yet executed the code. It's written, but the computer hasn't been told to execute it. \n",
    "\n",
    "Read the code and comments on the code below. Then press the play button at the top of this Jupyter window."
   ]
  },
  {
   "cell_type": "code",
   "execution_count": null,
   "metadata": {
    "colab": {},
    "colab_type": "code",
    "id": "YrlX3eJKYNPD"
   },
   "outputs": [],
   "source": [
    "# comments are anything that comes after the \"#\" symbol\n",
    "# there is a play (i.e., execute code) button at the top of this page\n",
    "a = 1       # assign 1 to variable a\n",
    "b = \"Hello\" # assign \"hello\" to variable b"
   ]
  },
  {
   "cell_type": "markdown",
   "metadata": {
    "colab_type": "text",
    "id": "np9COVYPYvzE"
   },
   "source": [
    "The following identifiers are used as reserved words, or keywords of the Python, and cannot be used as ordinary identifiers (i.e., objects, like ``a`` or ``b``, above). They must be spelled exactly as written here:\n",
    "\n",
    "    False      class      finally    is         return\n",
    "    None       continue   for        lambda     try\n",
    "    True       def        from       nonlocal   while\n",
    "    and        del        global     not        with\n",
    "    as         elif       if         or         yield\n",
    "    assert     else       import     pass\n",
    "    break      except     in         raise"
   ]
  },
  {
   "cell_type": "code",
   "execution_count": null,
   "metadata": {
    "colab": {},
    "colab_type": "code",
    "id": "3g3RS2UDh53r"
   },
   "outputs": [],
   "source": [
    "# How do we see our variables?\n",
    "print(a)\n",
    "print(b)\n",
    "print(a,b)"
   ]
  },
  {
   "cell_type": "markdown",
   "metadata": {
    "colab_type": "text",
    "id": "SDUqwFf_h_B0"
   },
   "source": [
    "All variables are objects. Every object has a type (class). \n",
    "\n",
    "The main types of objects, among many, include:\n",
    "1. Numbers (`'int'`) - integers, rational numbers, imaginary numbers \n",
    "<br> Ex: `18, 4.32, 5+2j`\n",
    "\n",
    "2. Strings (`'str'`) - sequences of ordered characters\n",
    "<br> Ex: `\"geography\", \"welcome to class\"`\n",
    "\n",
    "3. Lists (`'list'`) - positionally ordered collection of objects\n",
    "<br> Ex: `[1,2,3,4], [35, \"climate\", 2]`\n",
    "\n",
    "4. Dictionaries (`'dict'`) - a collection of objects, stored as keys instead of relative position\n",
    "<br> Ex: `sample = {'year': '2020', 'day': 'Thursday'}`\n",
    "\n",
    "5. Tuples (`'tuple'`) - similar to lists, but they cannot be extended or modified. They exist to pack together inhomogenous data.\n",
    "<br> Ex: `a = ('Irma', '282 km/hr, 2017, True)`\n",
    "\n",
    "To find out what type your variables are, use the `print` function:"
   ]
  },
  {
   "cell_type": "code",
   "execution_count": null,
   "metadata": {
    "colab": {},
    "colab_type": "code",
    "id": "1WRFQW19noqB"
   },
   "outputs": [],
   "source": [
    "print(type(a))\n",
    "print(type(b))"
   ]
  },
  {
   "cell_type": "markdown",
   "metadata": {
    "colab_type": "text",
    "id": "13k9mCg2F4JF"
   },
   "source": [
    "You can also change the type of object. \n",
    "\n",
    "*   To change an object to a string, use `str()`\n",
    "*   To change an object to an integer, use `int()`"
   ]
  },
  {
   "cell_type": "code",
   "execution_count": null,
   "metadata": {
    "colab": {},
    "colab_type": "code",
    "id": "O6Gbsf48G-mM"
   },
   "outputs": [],
   "source": [
    "# For example: \n",
    "x = \"3\"\n",
    "print(type(x)) # Variable x is considered a string\n",
    "\n",
    "# Change x from string to integer\n",
    "x = int(x)\n",
    "\n",
    "# Double check the type of object\n",
    "print(type(x))"
   ]
  },
  {
   "cell_type": "markdown",
   "metadata": {
    "colab_type": "text",
    "id": "Z88HWbnhDjoB"
   },
   "source": [
    "### Problem #1\n",
    "\n",
    "1A - Create a variable that encodes for your name. Then, print the variable to see the variable.\n",
    "\n",
    "Please add comments (with the # sign) next to your code for all of the problems to explain what you are doing. "
   ]
  },
  {
   "cell_type": "code",
   "execution_count": null,
   "metadata": {
    "colab": {},
    "colab_type": "code",
    "id": "X4MeO2loAJki"
   },
   "outputs": [],
   "source": [
    "# ENTER CODE HERE"
   ]
  },
  {
   "cell_type": "markdown",
   "metadata": {
    "colab_type": "text",
    "id": "1ElD-S3KHx9x"
   },
   "source": [
    "1B - Create a variable that is a list. Then, print to see the variable. \n"
   ]
  },
  {
   "cell_type": "code",
   "execution_count": null,
   "metadata": {
    "colab": {},
    "colab_type": "code",
    "id": "i9Jw-kwjbPY3"
   },
   "outputs": [],
   "source": [
    "# ENTER CODE HERE"
   ]
  },
  {
   "cell_type": "markdown",
   "metadata": {
    "colab_type": "text",
    "id": "aHQADYlGH0Im"
   },
   "source": [
    "1C - Create a variable that is a dictionary. Then, print to see the variable. \n"
   ]
  },
  {
   "cell_type": "code",
   "execution_count": null,
   "metadata": {
    "colab": {},
    "colab_type": "code",
    "id": "aT8QV1V_bXU1"
   },
   "outputs": [],
   "source": [
    "# ENTER CODE HERE"
   ]
  },
  {
   "cell_type": "markdown",
   "metadata": {
    "colab_type": "text",
    "id": "bGdqfq40VknQ"
   },
   "source": [
    "### 2.1 Boolean Values\n",
    "\n",
    "Boolean values are used to store `True` and `False` values. It is called `bool` in Python. Capitalization is important. "
   ]
  },
  {
   "cell_type": "code",
   "execution_count": null,
   "metadata": {
    "colab": {},
    "colab_type": "code",
    "id": "IKnkZducYmU9"
   },
   "outputs": [],
   "source": [
    "# Let'see what it looks like\n",
    "print(True)"
   ]
  },
  {
   "cell_type": "code",
   "execution_count": null,
   "metadata": {
    "colab": {},
    "colab_type": "code",
    "id": "K8fjwRkqYrRN"
   },
   "outputs": [],
   "source": [
    "# What kind of type do values produce?\n",
    "print(type(True))"
   ]
  },
  {
   "cell_type": "markdown",
   "metadata": {
    "colab_type": "text",
    "id": "HMc0POh-Yxu3"
   },
   "source": [
    "Boolean expression evaluates an expression to a value. \n",
    "\n",
    "Common comparisons are:\n",
    "1. `<` : less than\n",
    "2. `<=` : less than or equal to\n",
    "3. `>` : greater than\n",
    "4. `>=` : greater than or equal to\n",
    "5. `==` : is equal to\n",
    "6. `!=` : is not equal to"
   ]
  },
  {
   "cell_type": "code",
   "execution_count": null,
   "metadata": {
    "colab": {},
    "colab_type": "code",
    "id": "5-dcI3sAY2La"
   },
   "outputs": [],
   "source": [
    "print(2 == 2)"
   ]
  },
  {
   "cell_type": "code",
   "execution_count": null,
   "metadata": {
    "colab": {},
    "colab_type": "code",
    "id": "fvY3JiF6Y5OB"
   },
   "outputs": [],
   "source": [
    "print(2 == 3)"
   ]
  },
  {
   "cell_type": "code",
   "execution_count": null,
   "metadata": {
    "colab": {},
    "colab_type": "code",
    "id": "K_FdGaqgY8c7"
   },
   "outputs": [],
   "source": [
    "x = 300\n",
    "print(x > 200)"
   ]
  },
  {
   "cell_type": "markdown",
   "metadata": {
    "colab_type": "text",
    "id": "bUubqGqpAiIE"
   },
   "source": [
    "### Problem #2\n",
    "\n",
    "Given x = 349 and y = 104, how would you evaluate if these two variables were equal in Python?\n",
    "\n",
    "Please add comments (with the # sign) next to your code for all of the problems to explain what you are doing."
   ]
  },
  {
   "cell_type": "code",
   "execution_count": null,
   "metadata": {
    "colab": {},
    "colab_type": "code",
    "id": "UIgCB8EGBMN4"
   },
   "outputs": [],
   "source": [
    "# Hint: Remember to write a code that compares the variables, not the actual values\n",
    "\n",
    "# ENTER CODE HERE"
   ]
  },
  {
   "cell_type": "markdown",
   "metadata": {
    "colab_type": "text",
    "id": "iiJGRgL2IFjD"
   },
   "source": [
    "## #3. Math\n",
    "\n",
    "Basic arithmetic and boolean logic is part of the core python library. But as you saw above, it's far more than a calculator..."
   ]
  },
  {
   "cell_type": "code",
   "execution_count": null,
   "metadata": {
    "colab": {},
    "colab_type": "code",
    "id": "HFc6GHwYIXyk"
   },
   "outputs": [],
   "source": [
    "# Addition and Subtraction\n",
    "2+5-3"
   ]
  },
  {
   "cell_type": "code",
   "execution_count": null,
   "metadata": {
    "colab": {},
    "colab_type": "code",
    "id": "g2w75MACIe95"
   },
   "outputs": [],
   "source": [
    "# Multiplication\n",
    "3*5"
   ]
  },
  {
   "cell_type": "code",
   "execution_count": null,
   "metadata": {
    "colab": {},
    "colab_type": "code",
    "id": "O4wawF5EIiAe"
   },
   "outputs": [],
   "source": [
    "# Division\n",
    "20/4"
   ]
  },
  {
   "cell_type": "code",
   "execution_count": null,
   "metadata": {
    "colab": {},
    "colab_type": "code",
    "id": "Y8ca293UIzQ7"
   },
   "outputs": [],
   "source": [
    "# Exponentiation\n",
    "2**3"
   ]
  },
  {
   "cell_type": "code",
   "execution_count": null,
   "metadata": {
    "colab": {},
    "colab_type": "code",
    "id": "2yR6kIhgI5kC"
   },
   "outputs": [],
   "source": [
    "# It can also deal with complex numbers\n",
    "(2+3j) + (4-2j)"
   ]
  },
  {
   "cell_type": "markdown",
   "metadata": {
    "colab_type": "text",
    "id": "YxQbLupLJFLL"
   },
   "source": [
    "Mathematical formulas can be easily implemented:"
   ]
  },
  {
   "cell_type": "code",
   "execution_count": null,
   "metadata": {
    "colab": {},
    "colab_type": "code",
    "id": "cq3n4CDqJNJS"
   },
   "outputs": [],
   "source": [
    "# For example, let's convert miles to kilometers.\n",
    "# The ratio is 1 mile to 1.61 kilometers\n",
    "# To convert 20 miles to kilometers, it would be:\n",
    "\n",
    "miles = 20 # Store it as an object\n",
    "\n",
    "print(miles*1.61) # Calculate the conversion and print"
   ]
  },
  {
   "cell_type": "markdown",
   "metadata": {
    "colab_type": "text",
    "id": "XzobJbRZh26i"
   },
   "source": [
    "Recall when we reviewed different units used in climate science. \n",
    "\n",
    "Let's try calculating force using Python. Do you remember the formula from the lecture?\n",
    "\n",
    "Don't worry if you don't. The formula is:\n",
    "\n",
    "$$ F = m*a$$\n"
   ]
  },
  {
   "cell_type": "code",
   "execution_count": null,
   "metadata": {
    "colab": {},
    "colab_type": "code",
    "id": "C6V3UdfwcNPL"
   },
   "outputs": [],
   "source": [
    "# We want the force of an object that is 100kgs and acceleration of 5m/s^2\n",
    "\n",
    "# Store the values as a variable\n",
    "mass = 100 \n",
    "accl = 5\n",
    "\n",
    "# Calculate and store it as a force variable\n",
    "force = mass*accl\n",
    "\n",
    "# Let's see the value\n",
    "print(force)\n",
    "\n",
    "# We also want to include units\n",
    "print(force, \"Newtons\")"
   ]
  },
  {
   "cell_type": "markdown",
   "metadata": {
    "colab_type": "text",
    "id": "y-P9DJuhksje"
   },
   "source": [
    "### Problem #3\n",
    "\n",
    "Calculate the force of a 293 kgs object with an acceleration rate of 34m/s^2. \n",
    "\n",
    "Please add comments (with the # sign) next to your code for all of the problems to explain what you are doing."
   ]
  },
  {
   "cell_type": "code",
   "execution_count": null,
   "metadata": {
    "colab": {},
    "colab_type": "code",
    "id": "CNS-PwSKk6Gp"
   },
   "outputs": [],
   "source": [
    "# ENTER CODE HERE"
   ]
  },
  {
   "cell_type": "markdown",
   "metadata": {
    "colab_type": "text",
    "id": "1MacXCRuKv3Q"
   },
   "source": [
    "### Problem #4\n",
    "Often times, the temperature in climate science is given in Celsius, not Farenheit.\n",
    "\n",
    "The formula to convert temperature in Farenheit to Celsius is: \n",
    "\n",
    "$$T_{C} = (T_{F} - 32) * (5/9)$$\n",
    "\n",
    "Please convert 57 degrees Farenheit to Celsius.\n",
    "\n",
    "Please add comments (with the # sign) next to your code for all of the problems to explain what you are doing."
   ]
  },
  {
   "cell_type": "code",
   "execution_count": null,
   "metadata": {
    "colab": {},
    "colab_type": "code",
    "id": "odmrnhNFMhbj"
   },
   "outputs": [],
   "source": [
    "# ENTER CODE HERE"
   ]
  },
  {
   "cell_type": "markdown",
   "metadata": {
    "colab_type": "text",
    "id": "FgNvRvKRMov9"
   },
   "source": [
    "## #4. Working with Lists\n",
    "\n",
    "Lists are crucial data types in Python. They are collection which is changeable and ordered.\n",
    "\n",
    "Commonly used basic functions for lists include: \n",
    "\n",
    "\n",
    "1. `list.append(x)` - adding an item to an exist list\n",
    "2. `list.insert(i,x)` - add an item to a specified position \n",
    "3. `list.remove(x)` - remove an item from a list\n",
    "4. `list.index(x)` - print the index of the first item whose value equals x\n",
    "5. `list.sort()` - sort the items in a list\n",
    "6. `list.reverse()` - reverse the order of items in a list\n",
    "7. `list.count(x)` - return the number of times x is present in the list\n",
    "\n",
    "We will go through some of these functions one by one."
   ]
  },
  {
   "cell_type": "markdown",
   "metadata": {
    "colab_type": "text",
    "id": "Vr--lHXgVLed"
   },
   "source": [
    "We will go through some of these functions one by one using this data from some of the most expensive disasters in 2019:\n",
    "\n",
    "|   Disaster    | Cost in billions |\n",
    "|------|------|\n",
    "|   Typhoon Hagibis  | 15 |\n",
    "|   Cyclone Idai  | 2.7 |\n",
    "|   Hurricane Dorian  | 10 |\n",
    "|   Australian Wildfires  | 5 |\n",
    "|   Western and Central Europe Heatwave  | 1.7 |\n"
   ]
  },
  {
   "cell_type": "code",
   "execution_count": null,
   "metadata": {
    "colab": {},
    "colab_type": "code",
    "id": "UYoIkmpXPFlL"
   },
   "outputs": [],
   "source": [
    "# Here is the extracted list of only the disaster names:\n",
    "disasters_in_2019 = [\"Typhoon Hagibis\", \"Hurricane Dorian\", \"Australia Wildfires\", \n",
    "                     \"Cyclone Idai\", \"Western and Central Europe Heatwave\", \"-\"]\n",
    "\n",
    "# View\n",
    "print(disasters_in_2019)"
   ]
  },
  {
   "cell_type": "code",
   "execution_count": null,
   "metadata": {
    "colab": {},
    "colab_type": "code",
    "id": "pYJ5rF-5QKq0"
   },
   "outputs": [],
   "source": [
    "# Add Tropical Storm Imelda to the list\n",
    "disasters_in_2019.append(\"Tropical Storm Imelda\")\n",
    "\n",
    "# Check to see if it has been added\n",
    "print(disasters_in_2019)"
   ]
  },
  {
   "cell_type": "code",
   "execution_count": null,
   "metadata": {
    "colab": {},
    "colab_type": "code",
    "id": "Sc4jmGPQcjUJ"
   },
   "outputs": [],
   "source": [
    "# Let's see which position in the list Cyclone Idai is located\n",
    "disasters_in_2019.index(\"Cyclone Idai\")"
   ]
  },
  {
   "cell_type": "markdown",
   "metadata": {
    "colab_type": "text",
    "id": "mEZF4ZnDc5SH"
   },
   "source": [
    "Look back at the list you created. Is it located at the third position? \n",
    "\n",
    "No! It's actually the fourth item!  Turns out that Python uses what is called [\"zero-based numbering\"](https://en.wikipedia.org/wiki/Zero-based_numbering). \n",
    "\n",
    "It essentially means that Python starts counting at 0 rather than 1. "
   ]
  },
  {
   "cell_type": "code",
   "execution_count": null,
   "metadata": {
    "colab": {},
    "colab_type": "code",
    "id": "SUjQYVpcQgRD"
   },
   "outputs": [],
   "source": [
    "# Remove the weird \"-\" from the list\n",
    "disasters_in_2019.remove(\"-\")\n",
    "\n",
    "# Check to see if it has been removed\n",
    "print(disasters_in_2019)"
   ]
  },
  {
   "cell_type": "code",
   "execution_count": null,
   "metadata": {
    "colab": {},
    "colab_type": "code",
    "id": "e8QBmDjdQvPj"
   },
   "outputs": [],
   "source": [
    "# Sort alphabetically and view\n",
    "disasters_in_2019.sort()\n",
    "disasters_in_2019"
   ]
  },
  {
   "cell_type": "code",
   "execution_count": null,
   "metadata": {
    "colab": {},
    "colab_type": "code",
    "id": "yXoV6asFQ6zE"
   },
   "outputs": [],
   "source": [
    "# Reverse the order of the list\n",
    "disasters_in_2019.reverse()\n",
    "disasters_in_2019"
   ]
  },
  {
   "cell_type": "code",
   "execution_count": null,
   "metadata": {
    "colab": {},
    "colab_type": "code",
    "id": "BwFgQB8YRAn5"
   },
   "outputs": [],
   "source": [
    "# Count the number of times Hurricane Dorian appears in the list\n",
    "disasters_in_2019.count(\"Hurricane Dorian\")"
   ]
  },
  {
   "cell_type": "markdown",
   "metadata": {
    "colab_type": "text",
    "id": "B5bSVuOJR5gD"
   },
   "source": [
    "### Problem #5\n",
    "\n",
    "Here is the data from the same table above:\n",
    "\n",
    "|   Disaster    | Cost in billions |\n",
    "|------|------|\n",
    "|   Typhoon Hagibis  | 15 |\n",
    "|   Cyclone Idai  | 2.7 |\n",
    "|   Hurricane Dorian  | 10 |\n",
    "|   Australian Wildfires  | 5 |\n",
    "|   Western and Central Europe Heatwave  | 1.7 |\n",
    "\n",
    "\n",
    "Use this data to answer 5A - 5E. Please add comments (with the # sign) next to your code for all of the problems to explain what you are doing.\n",
    "\n",
    "5A - Make a list of only the cost of the disasters.\n",
    "\n"
   ]
  },
  {
   "cell_type": "code",
   "execution_count": null,
   "metadata": {
    "colab": {},
    "colab_type": "code",
    "id": "qFw5ul1EUZJ9"
   },
   "outputs": [],
   "source": [
    "# ENTER CODE HERE"
   ]
  },
  {
   "cell_type": "markdown",
   "metadata": {
    "colab_type": "text",
    "id": "yoATuqRwIEIK"
   },
   "source": [
    "5B - Which position is $5 billion located in?\n",
    "\n"
   ]
  },
  {
   "cell_type": "code",
   "execution_count": null,
   "metadata": {
    "colab": {},
    "colab_type": "code",
    "id": "VVO6rohDdZlw"
   },
   "outputs": [],
   "source": [
    "# ENTER CODE HERE"
   ]
  },
  {
   "cell_type": "markdown",
   "metadata": {
    "colab_type": "text",
    "id": "mDBJOxpyIG0o"
   },
   "source": [
    "5C - Add cost of Tropical Storm Imelda ($3.5 billion) to the list.\n"
   ]
  },
  {
   "cell_type": "code",
   "execution_count": null,
   "metadata": {
    "colab": {},
    "colab_type": "code",
    "id": "DCVPrpQ0UjT1"
   },
   "outputs": [],
   "source": [
    "# ENTER CODE HERE"
   ]
  },
  {
   "cell_type": "markdown",
   "metadata": {
    "colab_type": "text",
    "id": "98NcKTbfIK4l"
   },
   "source": [
    "5D - What was the cost of the most expensive disaster? Please use functions we learned in this problem set to answer."
   ]
  },
  {
   "cell_type": "code",
   "execution_count": null,
   "metadata": {
    "colab": {},
    "colab_type": "code",
    "id": "D-qY3ZtFU1BE"
   },
   "outputs": [],
   "source": [
    "# ENTER CODE HERE"
   ]
  },
  {
   "cell_type": "markdown",
   "metadata": {
    "colab_type": "text",
    "id": "f0oh8gcqXPy9"
   },
   "source": [
    "5E - How many times does Cyclone Idai appear in the list? Please use functions we learned in this problem set to answer."
   ]
  },
  {
   "cell_type": "code",
   "execution_count": null,
   "metadata": {
    "colab": {},
    "colab_type": "code",
    "id": "pmYgoJakXT4U"
   },
   "outputs": [],
   "source": [
    "# ENTER CODE HERE"
   ]
  },
  {
   "attachments": {},
   "cell_type": "markdown",
   "metadata": {},
   "source": [
    "### Who did you do this problem set with?\n"
   ]
  },
  {
   "cell_type": "code",
   "execution_count": null,
   "metadata": {},
   "outputs": [],
   "source": []
  },
  {
   "attachments": {},
   "cell_type": "markdown",
   "metadata": {},
   "source": [
    "# Process Log (to complete):\n",
    "\n",
    "How did you approach these problems?\n",
    "\n",
    "Did you run into any errors or confusing results? What were they?\n",
    "\n",
    "What changes did you make to fix or improve your code?\n",
    "\n",
    "What was the most important thing you learned from this exercise?"
   ]
  },
  {
   "cell_type": "markdown",
   "metadata": {},
   "source": []
  }
 ],
 "metadata": {
  "colab": {
   "name": "DIFUSE_GEOG36_PS1.ipynb",
   "provenance": []
  },
  "kernelspec": {
   "display_name": "Python mankin",
   "language": "python",
   "name": "mankin"
  },
  "language_info": {
   "codemirror_mode": {
    "name": "ipython",
    "version": 3
   },
   "file_extension": ".py",
   "mimetype": "text/x-python",
   "name": "python",
   "nbconvert_exporter": "python",
   "pygments_lexer": "ipython3",
   "version": "3.9.7"
  }
 },
 "nbformat": 4,
 "nbformat_minor": 2
}
